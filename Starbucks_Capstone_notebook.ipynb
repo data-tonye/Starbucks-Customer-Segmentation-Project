{
 "cells": [
  {
   "cell_type": "markdown",
   "metadata": {},
   "source": [
    "# Starbucks Capstone Challenge\n",
    "\n",
    "### Introduction\n",
    "\n",
    "This data set contains simulated data that mimics customer behavior on the Starbucks rewards mobile app. Once every few days, Starbucks sends out an offer to users of the mobile app. An offer can be merely an advertisement for a drink or an actual offer such as a discount or BOGO (buy one get one free). Some users might not receive any offer during certain weeks. \n",
    "\n",
    "Not all users receive the same offer, and that is the challenge to solve with this data set.\n",
    "\n",
    "Your task is to combine transaction, demographic and offer data to determine which demographic groups respond best to which offer type. This data set is a simplified version of the real Starbucks app because the underlying simulator only has one product whereas Starbucks actually sells dozens of products.\n",
    "\n",
    "Every offer has a validity period before the offer expires. As an example, a BOGO offer might be valid for only 5 days. You'll see in the data set that informational offers have a validity period even though these ads are merely providing information about a product; for example, if an informational offer has 7 days of validity, you can assume the customer is feeling the influence of the offer for 7 days after receiving the advertisement.\n",
    "\n",
    "You'll be given transactional data showing user purchases made on the app including the timestamp of purchase and the amount of money spent on a purchase. This transactional data also has a record for each offer that a user receives as well as a record for when a user actually views the offer. There are also records for when a user completes an offer. \n",
    "\n",
    "Keep in mind as well that someone using the app might make a purchase through the app without having received an offer or seen an offer.\n",
    "\n",
    "### Example\n",
    "\n",
    "To give an example, a user could receive a discount offer buy 10 dollars get 2 off on Monday. The offer is valid for 10 days from receipt. If the customer accumulates at least 10 dollars in purchases during the validity period, the customer completes the offer.\n",
    "\n",
    "However, there are a few things to watch out for in this data set. Customers do not opt into the offers that they receive; in other words, a user can receive an offer, never actually view the offer, and still complete the offer. For example, a user might receive the \"buy 10 dollars get 2 dollars off offer\", but the user never opens the offer during the 10 day validity period. The customer spends 15 dollars during those ten days. There will be an offer completion record in the data set; however, the customer was not influenced by the offer because the customer never viewed the offer.\n",
    "\n",
    "### Cleaning\n",
    "\n",
    "This makes data cleaning especially important and tricky.\n",
    "\n",
    "You'll also want to take into account that some demographic groups will make purchases even if they don't receive an offer. From a business perspective, if a customer is going to make a 10 dollar purchase without an offer anyway, you wouldn't want to send a buy 10 dollars get 2 dollars off offer. You'll want to try to assess what a certain demographic group will buy when not receiving any offers.\n",
    "\n",
    "### Final Advice\n",
    "\n",
    "Because this is a capstone project, you are free to analyze the data any way you see fit. For example, you could build a machine learning model that predicts how much someone will spend based on demographics and offer type. Or you could build a model that predicts whether or not someone will respond to an offer. Or, you don't need to build a machine learning model at all. You could develop a set of heuristics that determine what offer you should send to each customer (i.e., 75 percent of women customers who were 35 years old responded to offer A vs 40 percent from the same demographic to offer B, so send offer A)."
   ]
  },
  {
   "cell_type": "markdown",
   "metadata": {},
   "source": [
    "**Note:** If you are using the workspace, you will need to go to the terminal and run the command `conda update pandas` before reading in the files. This is because the version of pandas in the workspace cannot read in the transcript.json file correctly, but the newest version of pandas can. You can access the termnal from the orange icon in the top left of this notebook.  \n",
    "\n",
    "You can see how to access the terminal and how the install works using the two images below.  First you need to access the terminal:\n",
    "\n",
    "<img src=\"pic1.png\"/>\n",
    "\n",
    "Then you will want to run the above command:\n",
    "\n",
    "<img src=\"pic2.png\"/>\n",
    "\n",
    "Finally, when you enter back into the notebook (use the jupyter icon again), you should be able to run the below cell without any errors."
   ]
  },
  {
   "cell_type": "markdown",
   "metadata": {},
   "source": [
    "# Business Understanding\n",
    "\n",
    "Starbucks is an American multinational Corporation with various chains of coffeehouses and roastery reserves. Seattle, Washington is its headquarter. With over 28,000 locations with an army of employees, Starbucks' mission is \"To inspire and nurture the human spirit — one person, one cup and one neighborhood at a time.\"\n",
    "\n",
    "To do this, the company has to keep making sure it targets the right customers at the right time through their customer journey. It has a diverse customer base and understanding parterns while segmenting them in order to share various marketing campaigns is a crucial need for the business. For this project, an idea of the usual customers is given for exploration.\n",
    "\n",
    "To get more understanding of the data, the data needs to be observed and cleaned if needed.\n",
    "\n",
    "## Problem statement\n",
    "Starbucks will like to know:\n",
    "- Who to target for campaigns\n",
    "- What campaigns to give to these segmented customers\n",
    "\n",
    "To do this, I have segmented customers into income demographics, explored data with visuals and checked which campaign offer type these segemented customers respond to more.\n",
    "\n",
    "**Metric:** The solution has a detailed explanation of the patterns and observed offer types which these groups will respond to."
   ]
  },
  {
   "cell_type": "markdown",
   "metadata": {},
   "source": [
    "# Data Understanding\n",
    "\n",
    "#### Data Sets\n",
    "\n",
    "The data is contained in three files:\n",
    "\n",
    "* portfolio.json - containing offer ids and meta data about each offer (duration, type, etc.)\n",
    "* profile.json - demographic data for each customer\n",
    "* transcript.json - records for transactions, offers received, offers viewed, and offers completed\n",
    "\n",
    "Here is the schema and explanation of each variable in the files:\n",
    "\n",
    "**portfolio.json**\n",
    "* id (string) - offer id\n",
    "* offer_type (string) - type of offer ie BOGO, discount, informational\n",
    "* difficulty (int) - minimum required spend to complete an offer\n",
    "* reward (int) - reward given for completing an offer\n",
    "* duration (int) - time for offer to be open, in days\n",
    "* channels (list of strings)\n",
    "\n",
    "**profile.json**\n",
    "* age (int) - age of the customer \n",
    "* became_member_on (int) - date when customer created an app account\n",
    "* gender (str) - gender of the customer (note some entries contain 'O' for other rather than M or F)\n",
    "* id (str) - customer id\n",
    "* income (float) - customer's income\n",
    "\n",
    "**transcript.json**\n",
    "* event (str) - record description (ie transaction, offer received, offer viewed, etc.)\n",
    "* person (str) - customer id\n",
    "* time (int) - time in hours since start of test. The data begins at time t=0\n",
    "* value - (dict of strings) - either an offer id or transaction amount depending on the record\n",
    "\n"
   ]
  },
  {
   "cell_type": "code",
   "execution_count": 1,
   "metadata": {},
   "outputs": [],
   "source": [
    "# importing relevant libraries\n",
    "from datetime import datetime, timedelta\n",
    "import pandas as pd\n",
    "import numpy as np\n",
    "import seaborn as sns\n",
    "import math\n",
    "import json\n",
    "% matplotlib inline\n",
    "\n",
    "# reads in the json files\n",
    "portfolio = pd.read_json('data/portfolio.json', orient='records', lines=True)\n",
    "profile = pd.read_json('data/profile.json', orient='records', lines=True)\n",
    "transcript = pd.read_json('data/transcript.json', orient='records', lines=True)"
   ]
  },
  {
   "cell_type": "code",
   "execution_count": 2,
   "metadata": {},
   "outputs": [
    {
     "data": {
      "text/html": [
       "<div>\n",
       "<style scoped>\n",
       "    .dataframe tbody tr th:only-of-type {\n",
       "        vertical-align: middle;\n",
       "    }\n",
       "\n",
       "    .dataframe tbody tr th {\n",
       "        vertical-align: top;\n",
       "    }\n",
       "\n",
       "    .dataframe thead th {\n",
       "        text-align: right;\n",
       "    }\n",
       "</style>\n",
       "<table border=\"1\" class=\"dataframe\">\n",
       "  <thead>\n",
       "    <tr style=\"text-align: right;\">\n",
       "      <th></th>\n",
       "      <th>channels</th>\n",
       "      <th>difficulty</th>\n",
       "      <th>duration</th>\n",
       "      <th>id</th>\n",
       "      <th>offer_type</th>\n",
       "      <th>reward</th>\n",
       "    </tr>\n",
       "  </thead>\n",
       "  <tbody>\n",
       "    <tr>\n",
       "      <th>0</th>\n",
       "      <td>[email, mobile, social]</td>\n",
       "      <td>10</td>\n",
       "      <td>7</td>\n",
       "      <td>ae264e3637204a6fb9bb56bc8210ddfd</td>\n",
       "      <td>bogo</td>\n",
       "      <td>10</td>\n",
       "    </tr>\n",
       "    <tr>\n",
       "      <th>1</th>\n",
       "      <td>[web, email, mobile, social]</td>\n",
       "      <td>10</td>\n",
       "      <td>5</td>\n",
       "      <td>4d5c57ea9a6940dd891ad53e9dbe8da0</td>\n",
       "      <td>bogo</td>\n",
       "      <td>10</td>\n",
       "    </tr>\n",
       "    <tr>\n",
       "      <th>2</th>\n",
       "      <td>[web, email, mobile]</td>\n",
       "      <td>0</td>\n",
       "      <td>4</td>\n",
       "      <td>3f207df678b143eea3cee63160fa8bed</td>\n",
       "      <td>informational</td>\n",
       "      <td>0</td>\n",
       "    </tr>\n",
       "    <tr>\n",
       "      <th>3</th>\n",
       "      <td>[web, email, mobile]</td>\n",
       "      <td>5</td>\n",
       "      <td>7</td>\n",
       "      <td>9b98b8c7a33c4b65b9aebfe6a799e6d9</td>\n",
       "      <td>bogo</td>\n",
       "      <td>5</td>\n",
       "    </tr>\n",
       "    <tr>\n",
       "      <th>4</th>\n",
       "      <td>[web, email]</td>\n",
       "      <td>20</td>\n",
       "      <td>10</td>\n",
       "      <td>0b1e1539f2cc45b7b9fa7c272da2e1d7</td>\n",
       "      <td>discount</td>\n",
       "      <td>5</td>\n",
       "    </tr>\n",
       "    <tr>\n",
       "      <th>5</th>\n",
       "      <td>[web, email, mobile, social]</td>\n",
       "      <td>7</td>\n",
       "      <td>7</td>\n",
       "      <td>2298d6c36e964ae4a3e7e9706d1fb8c2</td>\n",
       "      <td>discount</td>\n",
       "      <td>3</td>\n",
       "    </tr>\n",
       "    <tr>\n",
       "      <th>6</th>\n",
       "      <td>[web, email, mobile, social]</td>\n",
       "      <td>10</td>\n",
       "      <td>10</td>\n",
       "      <td>fafdcd668e3743c1bb461111dcafc2a4</td>\n",
       "      <td>discount</td>\n",
       "      <td>2</td>\n",
       "    </tr>\n",
       "    <tr>\n",
       "      <th>7</th>\n",
       "      <td>[email, mobile, social]</td>\n",
       "      <td>0</td>\n",
       "      <td>3</td>\n",
       "      <td>5a8bc65990b245e5a138643cd4eb9837</td>\n",
       "      <td>informational</td>\n",
       "      <td>0</td>\n",
       "    </tr>\n",
       "    <tr>\n",
       "      <th>8</th>\n",
       "      <td>[web, email, mobile, social]</td>\n",
       "      <td>5</td>\n",
       "      <td>5</td>\n",
       "      <td>f19421c1d4aa40978ebb69ca19b0e20d</td>\n",
       "      <td>bogo</td>\n",
       "      <td>5</td>\n",
       "    </tr>\n",
       "    <tr>\n",
       "      <th>9</th>\n",
       "      <td>[web, email, mobile]</td>\n",
       "      <td>10</td>\n",
       "      <td>7</td>\n",
       "      <td>2906b810c7d4411798c6938adc9daaa5</td>\n",
       "      <td>discount</td>\n",
       "      <td>2</td>\n",
       "    </tr>\n",
       "  </tbody>\n",
       "</table>\n",
       "</div>"
      ],
      "text/plain": [
       "                       channels  difficulty  duration  \\\n",
       "0       [email, mobile, social]          10         7   \n",
       "1  [web, email, mobile, social]          10         5   \n",
       "2          [web, email, mobile]           0         4   \n",
       "3          [web, email, mobile]           5         7   \n",
       "4                  [web, email]          20        10   \n",
       "5  [web, email, mobile, social]           7         7   \n",
       "6  [web, email, mobile, social]          10        10   \n",
       "7       [email, mobile, social]           0         3   \n",
       "8  [web, email, mobile, social]           5         5   \n",
       "9          [web, email, mobile]          10         7   \n",
       "\n",
       "                                 id     offer_type  reward  \n",
       "0  ae264e3637204a6fb9bb56bc8210ddfd           bogo      10  \n",
       "1  4d5c57ea9a6940dd891ad53e9dbe8da0           bogo      10  \n",
       "2  3f207df678b143eea3cee63160fa8bed  informational       0  \n",
       "3  9b98b8c7a33c4b65b9aebfe6a799e6d9           bogo       5  \n",
       "4  0b1e1539f2cc45b7b9fa7c272da2e1d7       discount       5  \n",
       "5  2298d6c36e964ae4a3e7e9706d1fb8c2       discount       3  \n",
       "6  fafdcd668e3743c1bb461111dcafc2a4       discount       2  \n",
       "7  5a8bc65990b245e5a138643cd4eb9837  informational       0  \n",
       "8  f19421c1d4aa40978ebb69ca19b0e20d           bogo       5  \n",
       "9  2906b810c7d4411798c6938adc9daaa5       discount       2  "
      ]
     },
     "execution_count": 2,
     "metadata": {},
     "output_type": "execute_result"
    }
   ],
   "source": [
    "portfolio # displays data from the portfolio dataframe"
   ]
  },
  {
   "cell_type": "code",
   "execution_count": 3,
   "metadata": {},
   "outputs": [
    {
     "data": {
      "text/html": [
       "<div>\n",
       "<style scoped>\n",
       "    .dataframe tbody tr th:only-of-type {\n",
       "        vertical-align: middle;\n",
       "    }\n",
       "\n",
       "    .dataframe tbody tr th {\n",
       "        vertical-align: top;\n",
       "    }\n",
       "\n",
       "    .dataframe thead th {\n",
       "        text-align: right;\n",
       "    }\n",
       "</style>\n",
       "<table border=\"1\" class=\"dataframe\">\n",
       "  <thead>\n",
       "    <tr style=\"text-align: right;\">\n",
       "      <th></th>\n",
       "      <th>difficulty</th>\n",
       "      <th>duration</th>\n",
       "      <th>reward</th>\n",
       "    </tr>\n",
       "  </thead>\n",
       "  <tbody>\n",
       "    <tr>\n",
       "      <th>count</th>\n",
       "      <td>10.000000</td>\n",
       "      <td>10.000000</td>\n",
       "      <td>10.000000</td>\n",
       "    </tr>\n",
       "    <tr>\n",
       "      <th>mean</th>\n",
       "      <td>7.700000</td>\n",
       "      <td>6.500000</td>\n",
       "      <td>4.200000</td>\n",
       "    </tr>\n",
       "    <tr>\n",
       "      <th>std</th>\n",
       "      <td>5.831905</td>\n",
       "      <td>2.321398</td>\n",
       "      <td>3.583915</td>\n",
       "    </tr>\n",
       "    <tr>\n",
       "      <th>min</th>\n",
       "      <td>0.000000</td>\n",
       "      <td>3.000000</td>\n",
       "      <td>0.000000</td>\n",
       "    </tr>\n",
       "    <tr>\n",
       "      <th>25%</th>\n",
       "      <td>5.000000</td>\n",
       "      <td>5.000000</td>\n",
       "      <td>2.000000</td>\n",
       "    </tr>\n",
       "    <tr>\n",
       "      <th>50%</th>\n",
       "      <td>8.500000</td>\n",
       "      <td>7.000000</td>\n",
       "      <td>4.000000</td>\n",
       "    </tr>\n",
       "    <tr>\n",
       "      <th>75%</th>\n",
       "      <td>10.000000</td>\n",
       "      <td>7.000000</td>\n",
       "      <td>5.000000</td>\n",
       "    </tr>\n",
       "    <tr>\n",
       "      <th>max</th>\n",
       "      <td>20.000000</td>\n",
       "      <td>10.000000</td>\n",
       "      <td>10.000000</td>\n",
       "    </tr>\n",
       "  </tbody>\n",
       "</table>\n",
       "</div>"
      ],
      "text/plain": [
       "       difficulty   duration     reward\n",
       "count   10.000000  10.000000  10.000000\n",
       "mean     7.700000   6.500000   4.200000\n",
       "std      5.831905   2.321398   3.583915\n",
       "min      0.000000   3.000000   0.000000\n",
       "25%      5.000000   5.000000   2.000000\n",
       "50%      8.500000   7.000000   4.000000\n",
       "75%     10.000000   7.000000   5.000000\n",
       "max     20.000000  10.000000  10.000000"
      ]
     },
     "execution_count": 3,
     "metadata": {},
     "output_type": "execute_result"
    }
   ],
   "source": [
    "portfolio.describe() # displays descriptive statistics for dataframe"
   ]
  },
  {
   "cell_type": "code",
   "execution_count": 4,
   "metadata": {},
   "outputs": [
    {
     "data": {
      "text/plain": [
       "(10, 6)"
      ]
     },
     "execution_count": 4,
     "metadata": {},
     "output_type": "execute_result"
    }
   ],
   "source": [
    "portfolio.shape # displays number of rows and columns"
   ]
  },
  {
   "cell_type": "code",
   "execution_count": 5,
   "metadata": {
    "scrolled": true
   },
   "outputs": [
    {
     "data": {
      "text/html": [
       "<div>\n",
       "<style scoped>\n",
       "    .dataframe tbody tr th:only-of-type {\n",
       "        vertical-align: middle;\n",
       "    }\n",
       "\n",
       "    .dataframe tbody tr th {\n",
       "        vertical-align: top;\n",
       "    }\n",
       "\n",
       "    .dataframe thead th {\n",
       "        text-align: right;\n",
       "    }\n",
       "</style>\n",
       "<table border=\"1\" class=\"dataframe\">\n",
       "  <thead>\n",
       "    <tr style=\"text-align: right;\">\n",
       "      <th></th>\n",
       "      <th>age</th>\n",
       "      <th>became_member_on</th>\n",
       "      <th>gender</th>\n",
       "      <th>id</th>\n",
       "      <th>income</th>\n",
       "    </tr>\n",
       "  </thead>\n",
       "  <tbody>\n",
       "    <tr>\n",
       "      <th>0</th>\n",
       "      <td>118</td>\n",
       "      <td>20170212</td>\n",
       "      <td>None</td>\n",
       "      <td>68be06ca386d4c31939f3a4f0e3dd783</td>\n",
       "      <td>NaN</td>\n",
       "    </tr>\n",
       "    <tr>\n",
       "      <th>1</th>\n",
       "      <td>55</td>\n",
       "      <td>20170715</td>\n",
       "      <td>F</td>\n",
       "      <td>0610b486422d4921ae7d2bf64640c50b</td>\n",
       "      <td>112000.0</td>\n",
       "    </tr>\n",
       "    <tr>\n",
       "      <th>2</th>\n",
       "      <td>118</td>\n",
       "      <td>20180712</td>\n",
       "      <td>None</td>\n",
       "      <td>38fe809add3b4fcf9315a9694bb96ff5</td>\n",
       "      <td>NaN</td>\n",
       "    </tr>\n",
       "    <tr>\n",
       "      <th>3</th>\n",
       "      <td>75</td>\n",
       "      <td>20170509</td>\n",
       "      <td>F</td>\n",
       "      <td>78afa995795e4d85b5d9ceeca43f5fef</td>\n",
       "      <td>100000.0</td>\n",
       "    </tr>\n",
       "    <tr>\n",
       "      <th>4</th>\n",
       "      <td>118</td>\n",
       "      <td>20170804</td>\n",
       "      <td>None</td>\n",
       "      <td>a03223e636434f42ac4c3df47e8bac43</td>\n",
       "      <td>NaN</td>\n",
       "    </tr>\n",
       "  </tbody>\n",
       "</table>\n",
       "</div>"
      ],
      "text/plain": [
       "   age  became_member_on gender                                id    income\n",
       "0  118          20170212   None  68be06ca386d4c31939f3a4f0e3dd783       NaN\n",
       "1   55          20170715      F  0610b486422d4921ae7d2bf64640c50b  112000.0\n",
       "2  118          20180712   None  38fe809add3b4fcf9315a9694bb96ff5       NaN\n",
       "3   75          20170509      F  78afa995795e4d85b5d9ceeca43f5fef  100000.0\n",
       "4  118          20170804   None  a03223e636434f42ac4c3df47e8bac43       NaN"
      ]
     },
     "execution_count": 5,
     "metadata": {},
     "output_type": "execute_result"
    }
   ],
   "source": [
    "profile.head() # displays data from the profile dataframe"
   ]
  },
  {
   "cell_type": "code",
   "execution_count": 6,
   "metadata": {},
   "outputs": [
    {
     "name": "stdout",
     "output_type": "stream",
     "text": [
      "0\n",
      "age                    0\n",
      "became_member_on       0\n",
      "gender              2175\n",
      "id                     0\n",
      "income              2175\n",
      "dtype: int64\n",
      "                age  became_member_on         income\n",
      "count  17000.000000      1.700000e+04   14825.000000\n",
      "mean      62.531412      2.016703e+07   65404.991568\n",
      "std       26.738580      1.167750e+04   21598.299410\n",
      "min       18.000000      2.013073e+07   30000.000000\n",
      "25%       45.000000      2.016053e+07   49000.000000\n",
      "50%       58.000000      2.017080e+07   64000.000000\n",
      "75%       73.000000      2.017123e+07   80000.000000\n",
      "max      118.000000      2.018073e+07  120000.000000\n",
      "<class 'pandas.core.frame.DataFrame'>\n",
      "RangeIndex: 17000 entries, 0 to 16999\n",
      "Data columns (total 5 columns):\n",
      "age                 17000 non-null int64\n",
      "became_member_on    17000 non-null int64\n",
      "gender              14825 non-null object\n",
      "id                  17000 non-null object\n",
      "income              14825 non-null float64\n",
      "dtypes: float64(1), int64(2), object(2)\n",
      "memory usage: 664.1+ KB\n"
     ]
    }
   ],
   "source": [
    "print(profile.duplicated().sum()) # prints number of duplicated data in the dataframe\n",
    "\n",
    "print(profile.isnull().sum()) # prints number of null values\n",
    "\n",
    "print(profile.describe()) # displays descriptive statistics for dataframe\n",
    "\n",
    "profile.info() # displays information about the dataframe"
   ]
  },
  {
   "cell_type": "code",
   "execution_count": 7,
   "metadata": {
    "scrolled": true
   },
   "outputs": [
    {
     "data": {
      "text/html": [
       "<div>\n",
       "<style scoped>\n",
       "    .dataframe tbody tr th:only-of-type {\n",
       "        vertical-align: middle;\n",
       "    }\n",
       "\n",
       "    .dataframe tbody tr th {\n",
       "        vertical-align: top;\n",
       "    }\n",
       "\n",
       "    .dataframe thead th {\n",
       "        text-align: right;\n",
       "    }\n",
       "</style>\n",
       "<table border=\"1\" class=\"dataframe\">\n",
       "  <thead>\n",
       "    <tr style=\"text-align: right;\">\n",
       "      <th></th>\n",
       "      <th>age</th>\n",
       "      <th>became_member_on</th>\n",
       "      <th>gender</th>\n",
       "      <th>id</th>\n",
       "      <th>income</th>\n",
       "    </tr>\n",
       "  </thead>\n",
       "  <tbody>\n",
       "    <tr>\n",
       "      <th>0</th>\n",
       "      <td>118</td>\n",
       "      <td>20170212</td>\n",
       "      <td>None</td>\n",
       "      <td>68be06ca386d4c31939f3a4f0e3dd783</td>\n",
       "      <td>NaN</td>\n",
       "    </tr>\n",
       "    <tr>\n",
       "      <th>2</th>\n",
       "      <td>118</td>\n",
       "      <td>20180712</td>\n",
       "      <td>None</td>\n",
       "      <td>38fe809add3b4fcf9315a9694bb96ff5</td>\n",
       "      <td>NaN</td>\n",
       "    </tr>\n",
       "    <tr>\n",
       "      <th>4</th>\n",
       "      <td>118</td>\n",
       "      <td>20170804</td>\n",
       "      <td>None</td>\n",
       "      <td>a03223e636434f42ac4c3df47e8bac43</td>\n",
       "      <td>NaN</td>\n",
       "    </tr>\n",
       "    <tr>\n",
       "      <th>6</th>\n",
       "      <td>118</td>\n",
       "      <td>20170925</td>\n",
       "      <td>None</td>\n",
       "      <td>8ec6ce2a7e7949b1bf142def7d0e0586</td>\n",
       "      <td>NaN</td>\n",
       "    </tr>\n",
       "    <tr>\n",
       "      <th>7</th>\n",
       "      <td>118</td>\n",
       "      <td>20171002</td>\n",
       "      <td>None</td>\n",
       "      <td>68617ca6246f4fbc85e91a2a49552598</td>\n",
       "      <td>NaN</td>\n",
       "    </tr>\n",
       "    <tr>\n",
       "      <th>9</th>\n",
       "      <td>118</td>\n",
       "      <td>20161122</td>\n",
       "      <td>None</td>\n",
       "      <td>8974fc5686fe429db53ddde067b88302</td>\n",
       "      <td>NaN</td>\n",
       "    </tr>\n",
       "    <tr>\n",
       "      <th>10</th>\n",
       "      <td>118</td>\n",
       "      <td>20170824</td>\n",
       "      <td>None</td>\n",
       "      <td>c4863c7985cf408faee930f111475da3</td>\n",
       "      <td>NaN</td>\n",
       "    </tr>\n",
       "    <tr>\n",
       "      <th>11</th>\n",
       "      <td>118</td>\n",
       "      <td>20150919</td>\n",
       "      <td>None</td>\n",
       "      <td>148adfcaa27d485b82f323aaaad036bd</td>\n",
       "      <td>NaN</td>\n",
       "    </tr>\n",
       "    <tr>\n",
       "      <th>17</th>\n",
       "      <td>118</td>\n",
       "      <td>20170801</td>\n",
       "      <td>None</td>\n",
       "      <td>744d603ef08c4f33af5a61c8c7628d1c</td>\n",
       "      <td>NaN</td>\n",
       "    </tr>\n",
       "    <tr>\n",
       "      <th>23</th>\n",
       "      <td>118</td>\n",
       "      <td>20170907</td>\n",
       "      <td>None</td>\n",
       "      <td>2b826eba31074a059d63b0ae8f50b7d5</td>\n",
       "      <td>NaN</td>\n",
       "    </tr>\n",
       "    <tr>\n",
       "      <th>26</th>\n",
       "      <td>118</td>\n",
       "      <td>20170330</td>\n",
       "      <td>None</td>\n",
       "      <td>65aba5c617294649aeb624da249e1ee5</td>\n",
       "      <td>NaN</td>\n",
       "    </tr>\n",
       "    <tr>\n",
       "      <th>36</th>\n",
       "      <td>118</td>\n",
       "      <td>20160707</td>\n",
       "      <td>None</td>\n",
       "      <td>4beeb3ed64dd4898b0edf2f6b67426d3</td>\n",
       "      <td>NaN</td>\n",
       "    </tr>\n",
       "    <tr>\n",
       "      <th>39</th>\n",
       "      <td>118</td>\n",
       "      <td>20180113</td>\n",
       "      <td>None</td>\n",
       "      <td>25c906289d154b66bf579693f89481c9</td>\n",
       "      <td>NaN</td>\n",
       "    </tr>\n",
       "    <tr>\n",
       "      <th>44</th>\n",
       "      <td>118</td>\n",
       "      <td>20141111</td>\n",
       "      <td>None</td>\n",
       "      <td>5b8f1f0e0930464f93bb55e59b5a04e0</td>\n",
       "      <td>NaN</td>\n",
       "    </tr>\n",
       "    <tr>\n",
       "      <th>45</th>\n",
       "      <td>118</td>\n",
       "      <td>20170511</td>\n",
       "      <td>None</td>\n",
       "      <td>8be4463721e14d7fa600686bf8c8b2ed</td>\n",
       "      <td>NaN</td>\n",
       "    </tr>\n",
       "    <tr>\n",
       "      <th>54</th>\n",
       "      <td>118</td>\n",
       "      <td>20170528</td>\n",
       "      <td>None</td>\n",
       "      <td>81ac76e4f2fe4a6bb5ebdc0f19cecc56</td>\n",
       "      <td>NaN</td>\n",
       "    </tr>\n",
       "    <tr>\n",
       "      <th>56</th>\n",
       "      <td>118</td>\n",
       "      <td>20171013</td>\n",
       "      <td>None</td>\n",
       "      <td>020d3a52b9ce432ea5f98fc58e9bfcc4</td>\n",
       "      <td>NaN</td>\n",
       "    </tr>\n",
       "    <tr>\n",
       "      <th>57</th>\n",
       "      <td>118</td>\n",
       "      <td>20151220</td>\n",
       "      <td>None</td>\n",
       "      <td>4be1127413db496d8103c783ae72058b</td>\n",
       "      <td>NaN</td>\n",
       "    </tr>\n",
       "    <tr>\n",
       "      <th>80</th>\n",
       "      <td>118</td>\n",
       "      <td>20170918</td>\n",
       "      <td>None</td>\n",
       "      <td>9d8d6bb2fc544a9c802888971ee3e8b1</td>\n",
       "      <td>NaN</td>\n",
       "    </tr>\n",
       "    <tr>\n",
       "      <th>84</th>\n",
       "      <td>118</td>\n",
       "      <td>20150920</td>\n",
       "      <td>None</td>\n",
       "      <td>a89752cdfdf24779aa22faa2bc24e7c2</td>\n",
       "      <td>NaN</td>\n",
       "    </tr>\n",
       "    <tr>\n",
       "      <th>96</th>\n",
       "      <td>118</td>\n",
       "      <td>20160806</td>\n",
       "      <td>None</td>\n",
       "      <td>53bac762af27471eb294ff89ca1bae2c</td>\n",
       "      <td>NaN</td>\n",
       "    </tr>\n",
       "    <tr>\n",
       "      <th>103</th>\n",
       "      <td>118</td>\n",
       "      <td>20170223</td>\n",
       "      <td>None</td>\n",
       "      <td>488773cae11f4b71875bfccd4e3e99f2</td>\n",
       "      <td>NaN</td>\n",
       "    </tr>\n",
       "    <tr>\n",
       "      <th>104</th>\n",
       "      <td>118</td>\n",
       "      <td>20170823</td>\n",
       "      <td>None</td>\n",
       "      <td>182e68952b474700b171e21b85c258ac</td>\n",
       "      <td>NaN</td>\n",
       "    </tr>\n",
       "    <tr>\n",
       "      <th>108</th>\n",
       "      <td>118</td>\n",
       "      <td>20160130</td>\n",
       "      <td>None</td>\n",
       "      <td>5e9c83e8ab4d4e9ca83f3256d83ca756</td>\n",
       "      <td>NaN</td>\n",
       "    </tr>\n",
       "    <tr>\n",
       "      <th>121</th>\n",
       "      <td>118</td>\n",
       "      <td>20150730</td>\n",
       "      <td>None</td>\n",
       "      <td>c099206f76b1414db7552f163520053c</td>\n",
       "      <td>NaN</td>\n",
       "    </tr>\n",
       "    <tr>\n",
       "      <th>122</th>\n",
       "      <td>118</td>\n",
       "      <td>20171125</td>\n",
       "      <td>None</td>\n",
       "      <td>e6d3eebb535e44aca1323edde5c346fa</td>\n",
       "      <td>NaN</td>\n",
       "    </tr>\n",
       "    <tr>\n",
       "      <th>128</th>\n",
       "      <td>118</td>\n",
       "      <td>20160418</td>\n",
       "      <td>None</td>\n",
       "      <td>baba98dba43e42ae8e86cbd70725e201</td>\n",
       "      <td>NaN</td>\n",
       "    </tr>\n",
       "    <tr>\n",
       "      <th>143</th>\n",
       "      <td>118</td>\n",
       "      <td>20161018</td>\n",
       "      <td>None</td>\n",
       "      <td>58748c1cf9f746838c6ec62acdff28ad</td>\n",
       "      <td>NaN</td>\n",
       "    </tr>\n",
       "    <tr>\n",
       "      <th>169</th>\n",
       "      <td>118</td>\n",
       "      <td>20150905</td>\n",
       "      <td>None</td>\n",
       "      <td>770df32893694100afc703ea9c9df401</td>\n",
       "      <td>NaN</td>\n",
       "    </tr>\n",
       "    <tr>\n",
       "      <th>172</th>\n",
       "      <td>118</td>\n",
       "      <td>20180114</td>\n",
       "      <td>None</td>\n",
       "      <td>50b92ea51e2649dfbf7120d5e554e991</td>\n",
       "      <td>NaN</td>\n",
       "    </tr>\n",
       "    <tr>\n",
       "      <th>...</th>\n",
       "      <td>...</td>\n",
       "      <td>...</td>\n",
       "      <td>...</td>\n",
       "      <td>...</td>\n",
       "      <td>...</td>\n",
       "    </tr>\n",
       "    <tr>\n",
       "      <th>16820</th>\n",
       "      <td>118</td>\n",
       "      <td>20151015</td>\n",
       "      <td>None</td>\n",
       "      <td>64257cb56316491fae38e62f2687a66c</td>\n",
       "      <td>NaN</td>\n",
       "    </tr>\n",
       "    <tr>\n",
       "      <th>16829</th>\n",
       "      <td>118</td>\n",
       "      <td>20171007</td>\n",
       "      <td>None</td>\n",
       "      <td>56a0b671fa0347beb8b60011a15800aa</td>\n",
       "      <td>NaN</td>\n",
       "    </tr>\n",
       "    <tr>\n",
       "      <th>16831</th>\n",
       "      <td>118</td>\n",
       "      <td>20170910</td>\n",
       "      <td>None</td>\n",
       "      <td>060c0b9181674d03aa181b75353b9422</td>\n",
       "      <td>NaN</td>\n",
       "    </tr>\n",
       "    <tr>\n",
       "      <th>16835</th>\n",
       "      <td>118</td>\n",
       "      <td>20161211</td>\n",
       "      <td>None</td>\n",
       "      <td>587453e2944b4c6699519a217bf87de6</td>\n",
       "      <td>NaN</td>\n",
       "    </tr>\n",
       "    <tr>\n",
       "      <th>16839</th>\n",
       "      <td>118</td>\n",
       "      <td>20180626</td>\n",
       "      <td>None</td>\n",
       "      <td>d6063a30185b4e60b58a445bacec5f56</td>\n",
       "      <td>NaN</td>\n",
       "    </tr>\n",
       "    <tr>\n",
       "      <th>16842</th>\n",
       "      <td>118</td>\n",
       "      <td>20151110</td>\n",
       "      <td>None</td>\n",
       "      <td>a225189b10a141d5bb1ff0a05265da4c</td>\n",
       "      <td>NaN</td>\n",
       "    </tr>\n",
       "    <tr>\n",
       "      <th>16844</th>\n",
       "      <td>118</td>\n",
       "      <td>20170228</td>\n",
       "      <td>None</td>\n",
       "      <td>4342cb3414534aaca96ac523edc82654</td>\n",
       "      <td>NaN</td>\n",
       "    </tr>\n",
       "    <tr>\n",
       "      <th>16845</th>\n",
       "      <td>118</td>\n",
       "      <td>20150815</td>\n",
       "      <td>None</td>\n",
       "      <td>d1477e69857f42d18929f6f29b3be427</td>\n",
       "      <td>NaN</td>\n",
       "    </tr>\n",
       "    <tr>\n",
       "      <th>16852</th>\n",
       "      <td>118</td>\n",
       "      <td>20140605</td>\n",
       "      <td>None</td>\n",
       "      <td>6c0df9b1d3b8401c8098c7c7f9977d89</td>\n",
       "      <td>NaN</td>\n",
       "    </tr>\n",
       "    <tr>\n",
       "      <th>16853</th>\n",
       "      <td>118</td>\n",
       "      <td>20171123</td>\n",
       "      <td>None</td>\n",
       "      <td>7b3b8100d6444861803cefc6b13c9a43</td>\n",
       "      <td>NaN</td>\n",
       "    </tr>\n",
       "    <tr>\n",
       "      <th>16856</th>\n",
       "      <td>118</td>\n",
       "      <td>20150729</td>\n",
       "      <td>None</td>\n",
       "      <td>3a02d786fbc143edb257665ad54c5c09</td>\n",
       "      <td>NaN</td>\n",
       "    </tr>\n",
       "    <tr>\n",
       "      <th>16861</th>\n",
       "      <td>118</td>\n",
       "      <td>20171212</td>\n",
       "      <td>None</td>\n",
       "      <td>8f4364144e0548f885b390f28aabe2b8</td>\n",
       "      <td>NaN</td>\n",
       "    </tr>\n",
       "    <tr>\n",
       "      <th>16869</th>\n",
       "      <td>118</td>\n",
       "      <td>20160607</td>\n",
       "      <td>None</td>\n",
       "      <td>1efb4a45f5c34db4b07ebd19bdfc1b41</td>\n",
       "      <td>NaN</td>\n",
       "    </tr>\n",
       "    <tr>\n",
       "      <th>16875</th>\n",
       "      <td>118</td>\n",
       "      <td>20170129</td>\n",
       "      <td>None</td>\n",
       "      <td>113f3f07ac2b4f8b940d6136233ae3ee</td>\n",
       "      <td>NaN</td>\n",
       "    </tr>\n",
       "    <tr>\n",
       "      <th>16877</th>\n",
       "      <td>118</td>\n",
       "      <td>20180307</td>\n",
       "      <td>None</td>\n",
       "      <td>b6f74fc8e1664cfb9b44834dd9f7cf48</td>\n",
       "      <td>NaN</td>\n",
       "    </tr>\n",
       "    <tr>\n",
       "      <th>16885</th>\n",
       "      <td>118</td>\n",
       "      <td>20150804</td>\n",
       "      <td>None</td>\n",
       "      <td>123ec648e228460589182607c0db4dd5</td>\n",
       "      <td>NaN</td>\n",
       "    </tr>\n",
       "    <tr>\n",
       "      <th>16906</th>\n",
       "      <td>118</td>\n",
       "      <td>20170729</td>\n",
       "      <td>None</td>\n",
       "      <td>09f61d1d6e05402ca923d614dda52d57</td>\n",
       "      <td>NaN</td>\n",
       "    </tr>\n",
       "    <tr>\n",
       "      <th>16915</th>\n",
       "      <td>118</td>\n",
       "      <td>20171021</td>\n",
       "      <td>None</td>\n",
       "      <td>7b32b3085ad540a58482c091b1dca914</td>\n",
       "      <td>NaN</td>\n",
       "    </tr>\n",
       "    <tr>\n",
       "      <th>16923</th>\n",
       "      <td>118</td>\n",
       "      <td>20160209</td>\n",
       "      <td>None</td>\n",
       "      <td>54ed2d25754a486fba36eb5c7541203a</td>\n",
       "      <td>NaN</td>\n",
       "    </tr>\n",
       "    <tr>\n",
       "      <th>16931</th>\n",
       "      <td>118</td>\n",
       "      <td>20170913</td>\n",
       "      <td>None</td>\n",
       "      <td>e6843a4996574eb693ab864ecc406d56</td>\n",
       "      <td>NaN</td>\n",
       "    </tr>\n",
       "    <tr>\n",
       "      <th>16942</th>\n",
       "      <td>118</td>\n",
       "      <td>20170728</td>\n",
       "      <td>None</td>\n",
       "      <td>ba12d53863b3456f930ac62e2503fe48</td>\n",
       "      <td>NaN</td>\n",
       "    </tr>\n",
       "    <tr>\n",
       "      <th>16951</th>\n",
       "      <td>118</td>\n",
       "      <td>20171029</td>\n",
       "      <td>None</td>\n",
       "      <td>5ca2620962114246ab218fc648eb3934</td>\n",
       "      <td>NaN</td>\n",
       "    </tr>\n",
       "    <tr>\n",
       "      <th>16953</th>\n",
       "      <td>118</td>\n",
       "      <td>20170901</td>\n",
       "      <td>None</td>\n",
       "      <td>653d8f383fab43d4a93b10b02bd67266</td>\n",
       "      <td>NaN</td>\n",
       "    </tr>\n",
       "    <tr>\n",
       "      <th>16969</th>\n",
       "      <td>118</td>\n",
       "      <td>20131212</td>\n",
       "      <td>None</td>\n",
       "      <td>f19d9482309d4e93ad74935f9e46e44c</td>\n",
       "      <td>NaN</td>\n",
       "    </tr>\n",
       "    <tr>\n",
       "      <th>16977</th>\n",
       "      <td>118</td>\n",
       "      <td>20160609</td>\n",
       "      <td>None</td>\n",
       "      <td>eb7dd979f4644052a5c401a01f129132</td>\n",
       "      <td>NaN</td>\n",
       "    </tr>\n",
       "    <tr>\n",
       "      <th>16980</th>\n",
       "      <td>118</td>\n",
       "      <td>20160901</td>\n",
       "      <td>None</td>\n",
       "      <td>5c686d09ca4d475a8f750f2ba07e0440</td>\n",
       "      <td>NaN</td>\n",
       "    </tr>\n",
       "    <tr>\n",
       "      <th>16982</th>\n",
       "      <td>118</td>\n",
       "      <td>20160415</td>\n",
       "      <td>None</td>\n",
       "      <td>d9ca82f550ac4ee58b6299cf1e5c824a</td>\n",
       "      <td>NaN</td>\n",
       "    </tr>\n",
       "    <tr>\n",
       "      <th>16989</th>\n",
       "      <td>118</td>\n",
       "      <td>20180305</td>\n",
       "      <td>None</td>\n",
       "      <td>ca45ee1883624304bac1e4c8a114f045</td>\n",
       "      <td>NaN</td>\n",
       "    </tr>\n",
       "    <tr>\n",
       "      <th>16991</th>\n",
       "      <td>118</td>\n",
       "      <td>20160116</td>\n",
       "      <td>None</td>\n",
       "      <td>a9a20fa8b5504360beb4e7c8712f8306</td>\n",
       "      <td>NaN</td>\n",
       "    </tr>\n",
       "    <tr>\n",
       "      <th>16994</th>\n",
       "      <td>118</td>\n",
       "      <td>20151211</td>\n",
       "      <td>None</td>\n",
       "      <td>c02b10e8752c4d8e9b73f918558531f7</td>\n",
       "      <td>NaN</td>\n",
       "    </tr>\n",
       "  </tbody>\n",
       "</table>\n",
       "<p>2175 rows × 5 columns</p>\n",
       "</div>"
      ],
      "text/plain": [
       "       age  became_member_on gender                                id  income\n",
       "0      118          20170212   None  68be06ca386d4c31939f3a4f0e3dd783     NaN\n",
       "2      118          20180712   None  38fe809add3b4fcf9315a9694bb96ff5     NaN\n",
       "4      118          20170804   None  a03223e636434f42ac4c3df47e8bac43     NaN\n",
       "6      118          20170925   None  8ec6ce2a7e7949b1bf142def7d0e0586     NaN\n",
       "7      118          20171002   None  68617ca6246f4fbc85e91a2a49552598     NaN\n",
       "9      118          20161122   None  8974fc5686fe429db53ddde067b88302     NaN\n",
       "10     118          20170824   None  c4863c7985cf408faee930f111475da3     NaN\n",
       "11     118          20150919   None  148adfcaa27d485b82f323aaaad036bd     NaN\n",
       "17     118          20170801   None  744d603ef08c4f33af5a61c8c7628d1c     NaN\n",
       "23     118          20170907   None  2b826eba31074a059d63b0ae8f50b7d5     NaN\n",
       "26     118          20170330   None  65aba5c617294649aeb624da249e1ee5     NaN\n",
       "36     118          20160707   None  4beeb3ed64dd4898b0edf2f6b67426d3     NaN\n",
       "39     118          20180113   None  25c906289d154b66bf579693f89481c9     NaN\n",
       "44     118          20141111   None  5b8f1f0e0930464f93bb55e59b5a04e0     NaN\n",
       "45     118          20170511   None  8be4463721e14d7fa600686bf8c8b2ed     NaN\n",
       "54     118          20170528   None  81ac76e4f2fe4a6bb5ebdc0f19cecc56     NaN\n",
       "56     118          20171013   None  020d3a52b9ce432ea5f98fc58e9bfcc4     NaN\n",
       "57     118          20151220   None  4be1127413db496d8103c783ae72058b     NaN\n",
       "80     118          20170918   None  9d8d6bb2fc544a9c802888971ee3e8b1     NaN\n",
       "84     118          20150920   None  a89752cdfdf24779aa22faa2bc24e7c2     NaN\n",
       "96     118          20160806   None  53bac762af27471eb294ff89ca1bae2c     NaN\n",
       "103    118          20170223   None  488773cae11f4b71875bfccd4e3e99f2     NaN\n",
       "104    118          20170823   None  182e68952b474700b171e21b85c258ac     NaN\n",
       "108    118          20160130   None  5e9c83e8ab4d4e9ca83f3256d83ca756     NaN\n",
       "121    118          20150730   None  c099206f76b1414db7552f163520053c     NaN\n",
       "122    118          20171125   None  e6d3eebb535e44aca1323edde5c346fa     NaN\n",
       "128    118          20160418   None  baba98dba43e42ae8e86cbd70725e201     NaN\n",
       "143    118          20161018   None  58748c1cf9f746838c6ec62acdff28ad     NaN\n",
       "169    118          20150905   None  770df32893694100afc703ea9c9df401     NaN\n",
       "172    118          20180114   None  50b92ea51e2649dfbf7120d5e554e991     NaN\n",
       "...    ...               ...    ...                               ...     ...\n",
       "16820  118          20151015   None  64257cb56316491fae38e62f2687a66c     NaN\n",
       "16829  118          20171007   None  56a0b671fa0347beb8b60011a15800aa     NaN\n",
       "16831  118          20170910   None  060c0b9181674d03aa181b75353b9422     NaN\n",
       "16835  118          20161211   None  587453e2944b4c6699519a217bf87de6     NaN\n",
       "16839  118          20180626   None  d6063a30185b4e60b58a445bacec5f56     NaN\n",
       "16842  118          20151110   None  a225189b10a141d5bb1ff0a05265da4c     NaN\n",
       "16844  118          20170228   None  4342cb3414534aaca96ac523edc82654     NaN\n",
       "16845  118          20150815   None  d1477e69857f42d18929f6f29b3be427     NaN\n",
       "16852  118          20140605   None  6c0df9b1d3b8401c8098c7c7f9977d89     NaN\n",
       "16853  118          20171123   None  7b3b8100d6444861803cefc6b13c9a43     NaN\n",
       "16856  118          20150729   None  3a02d786fbc143edb257665ad54c5c09     NaN\n",
       "16861  118          20171212   None  8f4364144e0548f885b390f28aabe2b8     NaN\n",
       "16869  118          20160607   None  1efb4a45f5c34db4b07ebd19bdfc1b41     NaN\n",
       "16875  118          20170129   None  113f3f07ac2b4f8b940d6136233ae3ee     NaN\n",
       "16877  118          20180307   None  b6f74fc8e1664cfb9b44834dd9f7cf48     NaN\n",
       "16885  118          20150804   None  123ec648e228460589182607c0db4dd5     NaN\n",
       "16906  118          20170729   None  09f61d1d6e05402ca923d614dda52d57     NaN\n",
       "16915  118          20171021   None  7b32b3085ad540a58482c091b1dca914     NaN\n",
       "16923  118          20160209   None  54ed2d25754a486fba36eb5c7541203a     NaN\n",
       "16931  118          20170913   None  e6843a4996574eb693ab864ecc406d56     NaN\n",
       "16942  118          20170728   None  ba12d53863b3456f930ac62e2503fe48     NaN\n",
       "16951  118          20171029   None  5ca2620962114246ab218fc648eb3934     NaN\n",
       "16953  118          20170901   None  653d8f383fab43d4a93b10b02bd67266     NaN\n",
       "16969  118          20131212   None  f19d9482309d4e93ad74935f9e46e44c     NaN\n",
       "16977  118          20160609   None  eb7dd979f4644052a5c401a01f129132     NaN\n",
       "16980  118          20160901   None  5c686d09ca4d475a8f750f2ba07e0440     NaN\n",
       "16982  118          20160415   None  d9ca82f550ac4ee58b6299cf1e5c824a     NaN\n",
       "16989  118          20180305   None  ca45ee1883624304bac1e4c8a114f045     NaN\n",
       "16991  118          20160116   None  a9a20fa8b5504360beb4e7c8712f8306     NaN\n",
       "16994  118          20151211   None  c02b10e8752c4d8e9b73f918558531f7     NaN\n",
       "\n",
       "[2175 rows x 5 columns]"
      ]
     },
     "execution_count": 7,
     "metadata": {},
     "output_type": "execute_result"
    }
   ],
   "source": [
    "profile[profile.isnull().any(axis=1)] # displays all null values"
   ]
  },
  {
   "cell_type": "code",
   "execution_count": 8,
   "metadata": {
    "scrolled": true
   },
   "outputs": [
    {
     "data": {
      "text/html": [
       "<div>\n",
       "<style scoped>\n",
       "    .dataframe tbody tr th:only-of-type {\n",
       "        vertical-align: middle;\n",
       "    }\n",
       "\n",
       "    .dataframe tbody tr th {\n",
       "        vertical-align: top;\n",
       "    }\n",
       "\n",
       "    .dataframe thead th {\n",
       "        text-align: right;\n",
       "    }\n",
       "</style>\n",
       "<table border=\"1\" class=\"dataframe\">\n",
       "  <thead>\n",
       "    <tr style=\"text-align: right;\">\n",
       "      <th></th>\n",
       "      <th>event</th>\n",
       "      <th>person</th>\n",
       "      <th>time</th>\n",
       "      <th>value</th>\n",
       "    </tr>\n",
       "  </thead>\n",
       "  <tbody>\n",
       "    <tr>\n",
       "      <th>0</th>\n",
       "      <td>offer received</td>\n",
       "      <td>78afa995795e4d85b5d9ceeca43f5fef</td>\n",
       "      <td>0</td>\n",
       "      <td>{'offer id': '9b98b8c7a33c4b65b9aebfe6a799e6d9'}</td>\n",
       "    </tr>\n",
       "    <tr>\n",
       "      <th>1</th>\n",
       "      <td>offer received</td>\n",
       "      <td>a03223e636434f42ac4c3df47e8bac43</td>\n",
       "      <td>0</td>\n",
       "      <td>{'offer id': '0b1e1539f2cc45b7b9fa7c272da2e1d7'}</td>\n",
       "    </tr>\n",
       "    <tr>\n",
       "      <th>2</th>\n",
       "      <td>offer received</td>\n",
       "      <td>e2127556f4f64592b11af22de27a7932</td>\n",
       "      <td>0</td>\n",
       "      <td>{'offer id': '2906b810c7d4411798c6938adc9daaa5'}</td>\n",
       "    </tr>\n",
       "    <tr>\n",
       "      <th>3</th>\n",
       "      <td>offer received</td>\n",
       "      <td>8ec6ce2a7e7949b1bf142def7d0e0586</td>\n",
       "      <td>0</td>\n",
       "      <td>{'offer id': 'fafdcd668e3743c1bb461111dcafc2a4'}</td>\n",
       "    </tr>\n",
       "    <tr>\n",
       "      <th>4</th>\n",
       "      <td>offer received</td>\n",
       "      <td>68617ca6246f4fbc85e91a2a49552598</td>\n",
       "      <td>0</td>\n",
       "      <td>{'offer id': '4d5c57ea9a6940dd891ad53e9dbe8da0'}</td>\n",
       "    </tr>\n",
       "  </tbody>\n",
       "</table>\n",
       "</div>"
      ],
      "text/plain": [
       "            event                            person  time  \\\n",
       "0  offer received  78afa995795e4d85b5d9ceeca43f5fef     0   \n",
       "1  offer received  a03223e636434f42ac4c3df47e8bac43     0   \n",
       "2  offer received  e2127556f4f64592b11af22de27a7932     0   \n",
       "3  offer received  8ec6ce2a7e7949b1bf142def7d0e0586     0   \n",
       "4  offer received  68617ca6246f4fbc85e91a2a49552598     0   \n",
       "\n",
       "                                              value  \n",
       "0  {'offer id': '9b98b8c7a33c4b65b9aebfe6a799e6d9'}  \n",
       "1  {'offer id': '0b1e1539f2cc45b7b9fa7c272da2e1d7'}  \n",
       "2  {'offer id': '2906b810c7d4411798c6938adc9daaa5'}  \n",
       "3  {'offer id': 'fafdcd668e3743c1bb461111dcafc2a4'}  \n",
       "4  {'offer id': '4d5c57ea9a6940dd891ad53e9dbe8da0'}  "
      ]
     },
     "execution_count": 8,
     "metadata": {},
     "output_type": "execute_result"
    }
   ],
   "source": [
    "transcript.head() # displays transcript data"
   ]
  },
  {
   "cell_type": "code",
   "execution_count": 9,
   "metadata": {},
   "outputs": [
    {
     "name": "stdout",
     "output_type": "stream",
     "text": [
      "<class 'pandas.core.frame.DataFrame'>\n",
      "RangeIndex: 306534 entries, 0 to 306533\n",
      "Data columns (total 4 columns):\n",
      "event     306534 non-null object\n",
      "person    306534 non-null object\n",
      "time      306534 non-null int64\n",
      "value     306534 non-null object\n",
      "dtypes: int64(1), object(3)\n",
      "memory usage: 9.4+ MB\n"
     ]
    }
   ],
   "source": [
    "transcript.info() # displays information about the dataframe"
   ]
  },
  {
   "cell_type": "markdown",
   "metadata": {},
   "source": [
    "### Report\n",
    "\n",
    "- Portfolio dataframe:\n",
    "\n",
    "For this dataframe, it has 10 row and 6 columns. Nothing seems wrong with this just that the 'channels' column seems to have a list. We won't be using that for this project so it would not be an issue.\n",
    "\n",
    "Average minimum spend required to complete an offer is 7.70 dollars with an average reward of 4.20 dollars.\n",
    "\n",
    "\n",
    "- Profile dataframe:\n",
    "\n",
    "\n",
    "The profile data has 17,000 rows and 5 columns. There are no duplicate values although there are a good number of null values. It is noticed that where age is '118' income is 'NaN' and the age data might have been a mistake while computing this data. Gender for this same group has the value 'None' as well. Which might skew the data a bit. The column 'became_member_on' is not in a time format and would need to be converted. Even the column name is a bit long.\n",
    "\n",
    "Apart from these the average age is 63 with average income at $65,404. \n",
    "\n",
    "- Transcript dataframe:\n",
    "\n",
    "The data frame can't be explored properly because it has a column which is in dictionary format and needs to be change in order to work with this dataframe.\n"
   ]
  },
  {
   "cell_type": "markdown",
   "metadata": {},
   "source": [
    "# Preparing Data\n",
    "\n",
    "From the data above we can see that base on quality of data (validity, accuracy, completeness, consistency, uniformity), there are some cleaning tasks to complete before exploring the data to uncover patterns.\n",
    "\n",
    "### Cleaning\n",
    "\n",
    "- Portfolio:\n",
    "\n",
    "    Doesn't need to be cleaned\n",
    "    \n",
    "\n",
    "- Profile:\n",
    "\n",
    "    - Delete age = 118 and income = Nan. It can be back or front filled or replaced with averages but to help make sure the results of this project are accurate as possible, I will be deleting them entirely.\n",
    "    - Delete gender = 'None'. If the value 'None' coresponds with the age '118' and income 'Nan', it will be removed if not, I will assume that the gender wasn't indicated by will.\n",
    "    - Change the column name 'became_member_on' to a suitable name.\n",
    "    - Change the values in 'id' column to normal numbers for easy use in the project"
   ]
  },
  {
   "cell_type": "code",
   "execution_count": 10,
   "metadata": {},
   "outputs": [
    {
     "data": {
      "text/plain": [
       "age                 0\n",
       "became_member_on    0\n",
       "gender              0\n",
       "id                  0\n",
       "income              0\n",
       "dtype: int64"
      ]
     },
     "execution_count": 10,
     "metadata": {},
     "output_type": "execute_result"
    }
   ],
   "source": [
    "profile.dropna(inplace=True) # drops all null values\n",
    "profile.reset_index(drop=True, inplace=True) # resets index\n",
    "profile.isnull().sum() # checks if there are null values"
   ]
  },
  {
   "cell_type": "code",
   "execution_count": 11,
   "metadata": {},
   "outputs": [
    {
     "data": {
      "text/html": [
       "<div>\n",
       "<style scoped>\n",
       "    .dataframe tbody tr th:only-of-type {\n",
       "        vertical-align: middle;\n",
       "    }\n",
       "\n",
       "    .dataframe tbody tr th {\n",
       "        vertical-align: top;\n",
       "    }\n",
       "\n",
       "    .dataframe thead th {\n",
       "        text-align: right;\n",
       "    }\n",
       "</style>\n",
       "<table border=\"1\" class=\"dataframe\">\n",
       "  <thead>\n",
       "    <tr style=\"text-align: right;\">\n",
       "      <th></th>\n",
       "      <th>age</th>\n",
       "      <th>became_member_on</th>\n",
       "      <th>gender</th>\n",
       "      <th>id</th>\n",
       "      <th>income</th>\n",
       "    </tr>\n",
       "  </thead>\n",
       "  <tbody>\n",
       "  </tbody>\n",
       "</table>\n",
       "</div>"
      ],
      "text/plain": [
       "Empty DataFrame\n",
       "Columns: [age, became_member_on, gender, id, income]\n",
       "Index: []"
      ]
     },
     "execution_count": 11,
     "metadata": {},
     "output_type": "execute_result"
    }
   ],
   "source": [
    "profile[profile.isnull().any(axis=1)] # displays null values"
   ]
  },
  {
   "cell_type": "code",
   "execution_count": 12,
   "metadata": {},
   "outputs": [],
   "source": [
    "profile = profile.rename(columns={'became_member_on': 'subscription_date'}) # renames column\n",
    "\n",
    "profile['subscription_date'] = pd.to_datetime(profile['subscription_date'], format='%Y%m%d') # converts to the appropriate time format"
   ]
  },
  {
   "cell_type": "code",
   "execution_count": 13,
   "metadata": {},
   "outputs": [
    {
     "name": "stdout",
     "output_type": "stream",
     "text": [
      "age                           int64\n",
      "subscription_date    datetime64[ns]\n",
      "gender                       object\n",
      "id                           object\n",
      "income                      float64\n",
      "dtype: object\n"
     ]
    },
    {
     "data": {
      "text/html": [
       "<div>\n",
       "<style scoped>\n",
       "    .dataframe tbody tr th:only-of-type {\n",
       "        vertical-align: middle;\n",
       "    }\n",
       "\n",
       "    .dataframe tbody tr th {\n",
       "        vertical-align: top;\n",
       "    }\n",
       "\n",
       "    .dataframe thead th {\n",
       "        text-align: right;\n",
       "    }\n",
       "</style>\n",
       "<table border=\"1\" class=\"dataframe\">\n",
       "  <thead>\n",
       "    <tr style=\"text-align: right;\">\n",
       "      <th></th>\n",
       "      <th>age</th>\n",
       "      <th>subscription_date</th>\n",
       "      <th>gender</th>\n",
       "      <th>id</th>\n",
       "      <th>income</th>\n",
       "    </tr>\n",
       "  </thead>\n",
       "  <tbody>\n",
       "    <tr>\n",
       "      <th>0</th>\n",
       "      <td>55</td>\n",
       "      <td>2017-07-15</td>\n",
       "      <td>F</td>\n",
       "      <td>0610b486422d4921ae7d2bf64640c50b</td>\n",
       "      <td>112000.0</td>\n",
       "    </tr>\n",
       "    <tr>\n",
       "      <th>1</th>\n",
       "      <td>75</td>\n",
       "      <td>2017-05-09</td>\n",
       "      <td>F</td>\n",
       "      <td>78afa995795e4d85b5d9ceeca43f5fef</td>\n",
       "      <td>100000.0</td>\n",
       "    </tr>\n",
       "    <tr>\n",
       "      <th>2</th>\n",
       "      <td>68</td>\n",
       "      <td>2018-04-26</td>\n",
       "      <td>M</td>\n",
       "      <td>e2127556f4f64592b11af22de27a7932</td>\n",
       "      <td>70000.0</td>\n",
       "    </tr>\n",
       "    <tr>\n",
       "      <th>3</th>\n",
       "      <td>65</td>\n",
       "      <td>2018-02-09</td>\n",
       "      <td>M</td>\n",
       "      <td>389bc3fa690240e798340f5a15918d5c</td>\n",
       "      <td>53000.0</td>\n",
       "    </tr>\n",
       "    <tr>\n",
       "      <th>4</th>\n",
       "      <td>58</td>\n",
       "      <td>2017-11-11</td>\n",
       "      <td>M</td>\n",
       "      <td>2eeac8d8feae4a8cad5a6af0499a211d</td>\n",
       "      <td>51000.0</td>\n",
       "    </tr>\n",
       "  </tbody>\n",
       "</table>\n",
       "</div>"
      ],
      "text/plain": [
       "   age subscription_date gender                                id    income\n",
       "0   55        2017-07-15      F  0610b486422d4921ae7d2bf64640c50b  112000.0\n",
       "1   75        2017-05-09      F  78afa995795e4d85b5d9ceeca43f5fef  100000.0\n",
       "2   68        2018-04-26      M  e2127556f4f64592b11af22de27a7932   70000.0\n",
       "3   65        2018-02-09      M  389bc3fa690240e798340f5a15918d5c   53000.0\n",
       "4   58        2017-11-11      M  2eeac8d8feae4a8cad5a6af0499a211d   51000.0"
      ]
     },
     "execution_count": 13,
     "metadata": {},
     "output_type": "execute_result"
    }
   ],
   "source": [
    "print(profile.dtypes) # prints data types in dataframe\n",
    "\n",
    "profile.head() # displays dataframe"
   ]
  },
  {
   "cell_type": "markdown",
   "metadata": {},
   "source": [
    "   "
   ]
  },
  {
   "cell_type": "markdown",
   "metadata": {},
   "source": [
    "- Transcript:\n",
    "    - re-structure the columns with dictionary and split it into idependent columns in a dataframe.\n",
    "    - Rename column 'person' to 'id' incase I will be merging the profile and transcript dataframe in the project.\n",
    "    - Change the values in 'person' column to normal numbers for easy use in the project"
   ]
  },
  {
   "cell_type": "code",
   "execution_count": 14,
   "metadata": {},
   "outputs": [],
   "source": [
    "# splits the dictionary data format into columns\n",
    "transcript = pd.concat([transcript.drop(['value'], axis=1), transcript['value'].apply(pd.Series)], axis=1)"
   ]
  },
  {
   "cell_type": "code",
   "execution_count": 15,
   "metadata": {},
   "outputs": [
    {
     "data": {
      "text/html": [
       "<div>\n",
       "<style scoped>\n",
       "    .dataframe tbody tr th:only-of-type {\n",
       "        vertical-align: middle;\n",
       "    }\n",
       "\n",
       "    .dataframe tbody tr th {\n",
       "        vertical-align: top;\n",
       "    }\n",
       "\n",
       "    .dataframe thead th {\n",
       "        text-align: right;\n",
       "    }\n",
       "</style>\n",
       "<table border=\"1\" class=\"dataframe\">\n",
       "  <thead>\n",
       "    <tr style=\"text-align: right;\">\n",
       "      <th></th>\n",
       "      <th>event</th>\n",
       "      <th>person</th>\n",
       "      <th>time</th>\n",
       "      <th>offer id</th>\n",
       "      <th>amount</th>\n",
       "      <th>offer_id</th>\n",
       "      <th>reward</th>\n",
       "    </tr>\n",
       "  </thead>\n",
       "  <tbody>\n",
       "    <tr>\n",
       "      <th>0</th>\n",
       "      <td>offer received</td>\n",
       "      <td>78afa995795e4d85b5d9ceeca43f5fef</td>\n",
       "      <td>0</td>\n",
       "      <td>9b98b8c7a33c4b65b9aebfe6a799e6d9</td>\n",
       "      <td>NaN</td>\n",
       "      <td>NaN</td>\n",
       "      <td>NaN</td>\n",
       "    </tr>\n",
       "    <tr>\n",
       "      <th>1</th>\n",
       "      <td>offer received</td>\n",
       "      <td>a03223e636434f42ac4c3df47e8bac43</td>\n",
       "      <td>0</td>\n",
       "      <td>0b1e1539f2cc45b7b9fa7c272da2e1d7</td>\n",
       "      <td>NaN</td>\n",
       "      <td>NaN</td>\n",
       "      <td>NaN</td>\n",
       "    </tr>\n",
       "    <tr>\n",
       "      <th>2</th>\n",
       "      <td>offer received</td>\n",
       "      <td>e2127556f4f64592b11af22de27a7932</td>\n",
       "      <td>0</td>\n",
       "      <td>2906b810c7d4411798c6938adc9daaa5</td>\n",
       "      <td>NaN</td>\n",
       "      <td>NaN</td>\n",
       "      <td>NaN</td>\n",
       "    </tr>\n",
       "    <tr>\n",
       "      <th>3</th>\n",
       "      <td>offer received</td>\n",
       "      <td>8ec6ce2a7e7949b1bf142def7d0e0586</td>\n",
       "      <td>0</td>\n",
       "      <td>fafdcd668e3743c1bb461111dcafc2a4</td>\n",
       "      <td>NaN</td>\n",
       "      <td>NaN</td>\n",
       "      <td>NaN</td>\n",
       "    </tr>\n",
       "    <tr>\n",
       "      <th>4</th>\n",
       "      <td>offer received</td>\n",
       "      <td>68617ca6246f4fbc85e91a2a49552598</td>\n",
       "      <td>0</td>\n",
       "      <td>4d5c57ea9a6940dd891ad53e9dbe8da0</td>\n",
       "      <td>NaN</td>\n",
       "      <td>NaN</td>\n",
       "      <td>NaN</td>\n",
       "    </tr>\n",
       "  </tbody>\n",
       "</table>\n",
       "</div>"
      ],
      "text/plain": [
       "            event                            person  time  \\\n",
       "0  offer received  78afa995795e4d85b5d9ceeca43f5fef     0   \n",
       "1  offer received  a03223e636434f42ac4c3df47e8bac43     0   \n",
       "2  offer received  e2127556f4f64592b11af22de27a7932     0   \n",
       "3  offer received  8ec6ce2a7e7949b1bf142def7d0e0586     0   \n",
       "4  offer received  68617ca6246f4fbc85e91a2a49552598     0   \n",
       "\n",
       "                           offer id  amount offer_id  reward  \n",
       "0  9b98b8c7a33c4b65b9aebfe6a799e6d9     NaN      NaN     NaN  \n",
       "1  0b1e1539f2cc45b7b9fa7c272da2e1d7     NaN      NaN     NaN  \n",
       "2  2906b810c7d4411798c6938adc9daaa5     NaN      NaN     NaN  \n",
       "3  fafdcd668e3743c1bb461111dcafc2a4     NaN      NaN     NaN  \n",
       "4  4d5c57ea9a6940dd891ad53e9dbe8da0     NaN      NaN     NaN  "
      ]
     },
     "execution_count": 15,
     "metadata": {},
     "output_type": "execute_result"
    }
   ],
   "source": [
    "transcript.head() # displays the transformed dataframe"
   ]
  },
  {
   "cell_type": "code",
   "execution_count": 16,
   "metadata": {},
   "outputs": [],
   "source": [
    "transcript = transcript.rename(columns={'person': 'id'}) # renames column\n",
    "portfolio = portfolio.rename(columns={'id': 'offer id'}) # renames column\n",
    "\n",
    "# separated them into 2 different dataframes. df is mainly for events and merged_df is all dataframes together\n",
    "df = profile.merge(transcript, on = 'id') # merges profile and transcript dataframe\n",
    "merged_df = df.merge(portfolio, on = 'offer id') # merges profile and transcript dataframe"
   ]
  },
  {
   "cell_type": "code",
   "execution_count": 17,
   "metadata": {},
   "outputs": [],
   "source": [
    "def id_mapper(df, column_name):\n",
    "    '''maps id to user_id\n",
    "       in the dataframe\n",
    "    \n",
    "    INPUT: dataframe and name of column\n",
    "    OUTPUT: convert long id to short user_id\n",
    "   '''\n",
    "    coded_dict = dict()\n",
    "    cter = 1\n",
    "    id_encoded = []\n",
    "    \n",
    "    # interates through id values and encodes them to user_ids\n",
    "    for val in df[column_name]:\n",
    "        if val not in coded_dict:\n",
    "            coded_dict[val] = cter\n",
    "            cter+=1\n",
    "        \n",
    "        id_encoded.append(coded_dict[val]) #appends encoded values to list\n",
    "    return id_encoded"
   ]
  },
  {
   "cell_type": "code",
   "execution_count": 18,
   "metadata": {},
   "outputs": [],
   "source": [
    "id_encoded_1 = id_mapper(df, 'id') # calls function and saves results in a variable\n",
    "id_encoded_2 = id_mapper(merged_df, 'id') # calls function and saves results in a variable\n",
    "\n",
    "# this is for the merged profile and transcript dataframe\n",
    "del df['id'] # deletes id column\n",
    "df['user_id'] = id_encoded_1 # replaces user_id with encoded list\n",
    "cols = ['age', 'subscription_date', 'gender', 'user_id',  'income', 'event', 'time', 'offer id', 'amount', 'offer_id', 'reward']\n",
    "\n",
    "df = df[cols] # changes the order of columns\n",
    "\n",
    "\n",
    "# this is for the merged profile, transcript and portfolio dataframe\n",
    "del merged_df['id'] # deletes id column\n",
    "merged_df['user_id'] = id_encoded_2 # replaces user_id with encoded list\n",
    "cols = ['age', 'subscription_date', 'gender', 'user_id',  'income','event','time','offer id','amount','offer_id','reward_x','channels','difficulty','duration','offer_type','reward_y']\n",
    "\n",
    "merged_df = merged_df[cols] # changes the order of columns"
   ]
  },
  {
   "cell_type": "code",
   "execution_count": 19,
   "metadata": {},
   "outputs": [
    {
     "data": {
      "text/html": [
       "<div>\n",
       "<style scoped>\n",
       "    .dataframe tbody tr th:only-of-type {\n",
       "        vertical-align: middle;\n",
       "    }\n",
       "\n",
       "    .dataframe tbody tr th {\n",
       "        vertical-align: top;\n",
       "    }\n",
       "\n",
       "    .dataframe thead th {\n",
       "        text-align: right;\n",
       "    }\n",
       "</style>\n",
       "<table border=\"1\" class=\"dataframe\">\n",
       "  <thead>\n",
       "    <tr style=\"text-align: right;\">\n",
       "      <th></th>\n",
       "      <th>age</th>\n",
       "      <th>subscription_date</th>\n",
       "      <th>gender</th>\n",
       "      <th>user_id</th>\n",
       "      <th>income</th>\n",
       "      <th>event</th>\n",
       "      <th>time</th>\n",
       "      <th>offer_id</th>\n",
       "      <th>amount</th>\n",
       "      <th>completed_offer_id</th>\n",
       "      <th>reward</th>\n",
       "    </tr>\n",
       "  </thead>\n",
       "  <tbody>\n",
       "    <tr>\n",
       "      <th>0</th>\n",
       "      <td>55</td>\n",
       "      <td>2017-07-15</td>\n",
       "      <td>F</td>\n",
       "      <td>1</td>\n",
       "      <td>112000.0</td>\n",
       "      <td>transaction</td>\n",
       "      <td>18</td>\n",
       "      <td>NaN</td>\n",
       "      <td>21.51</td>\n",
       "      <td>NaN</td>\n",
       "      <td>NaN</td>\n",
       "    </tr>\n",
       "    <tr>\n",
       "      <th>1</th>\n",
       "      <td>55</td>\n",
       "      <td>2017-07-15</td>\n",
       "      <td>F</td>\n",
       "      <td>1</td>\n",
       "      <td>112000.0</td>\n",
       "      <td>transaction</td>\n",
       "      <td>144</td>\n",
       "      <td>NaN</td>\n",
       "      <td>32.28</td>\n",
       "      <td>NaN</td>\n",
       "      <td>NaN</td>\n",
       "    </tr>\n",
       "    <tr>\n",
       "      <th>2</th>\n",
       "      <td>55</td>\n",
       "      <td>2017-07-15</td>\n",
       "      <td>F</td>\n",
       "      <td>1</td>\n",
       "      <td>112000.0</td>\n",
       "      <td>offer received</td>\n",
       "      <td>408</td>\n",
       "      <td>9b98b8c7a33c4b65b9aebfe6a799e6d9</td>\n",
       "      <td>NaN</td>\n",
       "      <td>NaN</td>\n",
       "      <td>NaN</td>\n",
       "    </tr>\n",
       "    <tr>\n",
       "      <th>3</th>\n",
       "      <td>55</td>\n",
       "      <td>2017-07-15</td>\n",
       "      <td>F</td>\n",
       "      <td>1</td>\n",
       "      <td>112000.0</td>\n",
       "      <td>offer received</td>\n",
       "      <td>504</td>\n",
       "      <td>3f207df678b143eea3cee63160fa8bed</td>\n",
       "      <td>NaN</td>\n",
       "      <td>NaN</td>\n",
       "      <td>NaN</td>\n",
       "    </tr>\n",
       "    <tr>\n",
       "      <th>4</th>\n",
       "      <td>55</td>\n",
       "      <td>2017-07-15</td>\n",
       "      <td>F</td>\n",
       "      <td>1</td>\n",
       "      <td>112000.0</td>\n",
       "      <td>transaction</td>\n",
       "      <td>528</td>\n",
       "      <td>NaN</td>\n",
       "      <td>23.22</td>\n",
       "      <td>NaN</td>\n",
       "      <td>NaN</td>\n",
       "    </tr>\n",
       "  </tbody>\n",
       "</table>\n",
       "</div>"
      ],
      "text/plain": [
       "   age subscription_date gender  user_id    income           event  time  \\\n",
       "0   55        2017-07-15      F        1  112000.0     transaction    18   \n",
       "1   55        2017-07-15      F        1  112000.0     transaction   144   \n",
       "2   55        2017-07-15      F        1  112000.0  offer received   408   \n",
       "3   55        2017-07-15      F        1  112000.0  offer received   504   \n",
       "4   55        2017-07-15      F        1  112000.0     transaction   528   \n",
       "\n",
       "                           offer_id  amount completed_offer_id  reward  \n",
       "0                               NaN   21.51                NaN     NaN  \n",
       "1                               NaN   32.28                NaN     NaN  \n",
       "2  9b98b8c7a33c4b65b9aebfe6a799e6d9     NaN                NaN     NaN  \n",
       "3  3f207df678b143eea3cee63160fa8bed     NaN                NaN     NaN  \n",
       "4                               NaN   23.22                NaN     NaN  "
      ]
     },
     "execution_count": 19,
     "metadata": {},
     "output_type": "execute_result"
    }
   ],
   "source": [
    "df = df.rename(columns={'offer id': 'offer_id', 'offer_id': 'completed_offer_id'}) # renames column\n",
    "df.head()"
   ]
  },
  {
   "cell_type": "code",
   "execution_count": 20,
   "metadata": {},
   "outputs": [
    {
     "data": {
      "text/html": [
       "<div>\n",
       "<style scoped>\n",
       "    .dataframe tbody tr th:only-of-type {\n",
       "        vertical-align: middle;\n",
       "    }\n",
       "\n",
       "    .dataframe tbody tr th {\n",
       "        vertical-align: top;\n",
       "    }\n",
       "\n",
       "    .dataframe thead th {\n",
       "        text-align: right;\n",
       "    }\n",
       "</style>\n",
       "<table border=\"1\" class=\"dataframe\">\n",
       "  <thead>\n",
       "    <tr style=\"text-align: right;\">\n",
       "      <th></th>\n",
       "      <th>age</th>\n",
       "      <th>subscription_date</th>\n",
       "      <th>gender</th>\n",
       "      <th>user_id</th>\n",
       "      <th>income</th>\n",
       "      <th>event</th>\n",
       "      <th>time</th>\n",
       "      <th>offer id</th>\n",
       "      <th>channels</th>\n",
       "      <th>difficulty</th>\n",
       "      <th>duration</th>\n",
       "      <th>offer_type</th>\n",
       "      <th>reward</th>\n",
       "    </tr>\n",
       "  </thead>\n",
       "  <tbody>\n",
       "    <tr>\n",
       "      <th>0</th>\n",
       "      <td>55</td>\n",
       "      <td>2017-07-15</td>\n",
       "      <td>F</td>\n",
       "      <td>1</td>\n",
       "      <td>112000.0</td>\n",
       "      <td>offer received</td>\n",
       "      <td>408</td>\n",
       "      <td>9b98b8c7a33c4b65b9aebfe6a799e6d9</td>\n",
       "      <td>[web, email, mobile]</td>\n",
       "      <td>5</td>\n",
       "      <td>7</td>\n",
       "      <td>bogo</td>\n",
       "      <td>5</td>\n",
       "    </tr>\n",
       "    <tr>\n",
       "      <th>1</th>\n",
       "      <td>75</td>\n",
       "      <td>2017-05-09</td>\n",
       "      <td>F</td>\n",
       "      <td>2</td>\n",
       "      <td>100000.0</td>\n",
       "      <td>offer received</td>\n",
       "      <td>0</td>\n",
       "      <td>9b98b8c7a33c4b65b9aebfe6a799e6d9</td>\n",
       "      <td>[web, email, mobile]</td>\n",
       "      <td>5</td>\n",
       "      <td>7</td>\n",
       "      <td>bogo</td>\n",
       "      <td>5</td>\n",
       "    </tr>\n",
       "    <tr>\n",
       "      <th>2</th>\n",
       "      <td>75</td>\n",
       "      <td>2017-05-09</td>\n",
       "      <td>F</td>\n",
       "      <td>2</td>\n",
       "      <td>100000.0</td>\n",
       "      <td>offer viewed</td>\n",
       "      <td>6</td>\n",
       "      <td>9b98b8c7a33c4b65b9aebfe6a799e6d9</td>\n",
       "      <td>[web, email, mobile]</td>\n",
       "      <td>5</td>\n",
       "      <td>7</td>\n",
       "      <td>bogo</td>\n",
       "      <td>5</td>\n",
       "    </tr>\n",
       "    <tr>\n",
       "      <th>3</th>\n",
       "      <td>68</td>\n",
       "      <td>2018-04-26</td>\n",
       "      <td>M</td>\n",
       "      <td>3</td>\n",
       "      <td>70000.0</td>\n",
       "      <td>offer received</td>\n",
       "      <td>408</td>\n",
       "      <td>9b98b8c7a33c4b65b9aebfe6a799e6d9</td>\n",
       "      <td>[web, email, mobile]</td>\n",
       "      <td>5</td>\n",
       "      <td>7</td>\n",
       "      <td>bogo</td>\n",
       "      <td>5</td>\n",
       "    </tr>\n",
       "    <tr>\n",
       "      <th>4</th>\n",
       "      <td>68</td>\n",
       "      <td>2018-04-26</td>\n",
       "      <td>M</td>\n",
       "      <td>3</td>\n",
       "      <td>70000.0</td>\n",
       "      <td>offer viewed</td>\n",
       "      <td>420</td>\n",
       "      <td>9b98b8c7a33c4b65b9aebfe6a799e6d9</td>\n",
       "      <td>[web, email, mobile]</td>\n",
       "      <td>5</td>\n",
       "      <td>7</td>\n",
       "      <td>bogo</td>\n",
       "      <td>5</td>\n",
       "    </tr>\n",
       "  </tbody>\n",
       "</table>\n",
       "</div>"
      ],
      "text/plain": [
       "   age subscription_date gender  user_id    income           event  time  \\\n",
       "0   55        2017-07-15      F        1  112000.0  offer received   408   \n",
       "1   75        2017-05-09      F        2  100000.0  offer received     0   \n",
       "2   75        2017-05-09      F        2  100000.0    offer viewed     6   \n",
       "3   68        2018-04-26      M        3   70000.0  offer received   408   \n",
       "4   68        2018-04-26      M        3   70000.0    offer viewed   420   \n",
       "\n",
       "                           offer id              channels  difficulty  \\\n",
       "0  9b98b8c7a33c4b65b9aebfe6a799e6d9  [web, email, mobile]           5   \n",
       "1  9b98b8c7a33c4b65b9aebfe6a799e6d9  [web, email, mobile]           5   \n",
       "2  9b98b8c7a33c4b65b9aebfe6a799e6d9  [web, email, mobile]           5   \n",
       "3  9b98b8c7a33c4b65b9aebfe6a799e6d9  [web, email, mobile]           5   \n",
       "4  9b98b8c7a33c4b65b9aebfe6a799e6d9  [web, email, mobile]           5   \n",
       "\n",
       "   duration offer_type  reward  \n",
       "0         7       bogo       5  \n",
       "1         7       bogo       5  \n",
       "2         7       bogo       5  \n",
       "3         7       bogo       5  \n",
       "4         7       bogo       5  "
      ]
     },
     "execution_count": 20,
     "metadata": {},
     "output_type": "execute_result"
    }
   ],
   "source": [
    "merged_df = merged_df.drop(columns = ['amount', 'offer_id', 'reward_x']) # drops columns\n",
    "merged_df = merged_df.rename(columns = {'reward_y': 'reward'}) # renames column\n",
    "merged_df.head()"
   ]
  },
  {
   "cell_type": "markdown",
   "metadata": {},
   "source": [
    " "
   ]
  },
  {
   "cell_type": "markdown",
   "metadata": {},
   "source": [
    "  "
   ]
  },
  {
   "cell_type": "markdown",
   "metadata": {},
   "source": [
    "**df dataframe:**\n",
    "You will notice that there are lots of **NaN** values after we cleaned and merged the data.\n",
    "- From the df data there are people who made **transactions** without using offers and so have null values in 'offer_id', 'completed_offer_id', 'reward' but there is a value for 'amount' indicating the amount spent on their purchace.\n",
    "- For those who recieved offers, there is an 'offer_id' no 'amount' spent. Since they haven't completed the offer there's not 'completed_offer_id' or reward.\n",
    "- Similar to when an offer is completed, then there's a completed offer id and a reward.\n",
    "\n",
    "\n",
    "**merged_df data frame:**\n",
    "contains the portfolio merged with the profile dataframe. There two data frames so that things are not misplaced with very long columns.\n",
    "\n",
    "\n",
    "To further try to make sense of this data, segmentation along income demographics will be done in order to make sense of this data and explore hidden patterns.\n",
    "\n",
    "This is done to ensure that it might be easier to group people and make more valid assumptions."
   ]
  },
  {
   "cell_type": "code",
   "execution_count": 21,
   "metadata": {},
   "outputs": [
    {
     "data": {
      "text/html": [
       "<div>\n",
       "<style scoped>\n",
       "    .dataframe tbody tr th:only-of-type {\n",
       "        vertical-align: middle;\n",
       "    }\n",
       "\n",
       "    .dataframe tbody tr th {\n",
       "        vertical-align: top;\n",
       "    }\n",
       "\n",
       "    .dataframe thead th {\n",
       "        text-align: right;\n",
       "    }\n",
       "</style>\n",
       "<table border=\"1\" class=\"dataframe\">\n",
       "  <thead>\n",
       "    <tr style=\"text-align: right;\">\n",
       "      <th></th>\n",
       "      <th>age</th>\n",
       "      <th>subscription_date</th>\n",
       "      <th>gender</th>\n",
       "      <th>user_id</th>\n",
       "      <th>income</th>\n",
       "      <th>event</th>\n",
       "      <th>time</th>\n",
       "      <th>offer id</th>\n",
       "      <th>channels</th>\n",
       "      <th>difficulty</th>\n",
       "      <th>duration</th>\n",
       "      <th>offer_type</th>\n",
       "      <th>reward</th>\n",
       "      <th>age_range</th>\n",
       "    </tr>\n",
       "  </thead>\n",
       "  <tbody>\n",
       "    <tr>\n",
       "      <th>0</th>\n",
       "      <td>55</td>\n",
       "      <td>2017-07-15</td>\n",
       "      <td>F</td>\n",
       "      <td>1</td>\n",
       "      <td>112000.0</td>\n",
       "      <td>offer received</td>\n",
       "      <td>408</td>\n",
       "      <td>9b98b8c7a33c4b65b9aebfe6a799e6d9</td>\n",
       "      <td>[web, email, mobile]</td>\n",
       "      <td>5</td>\n",
       "      <td>7</td>\n",
       "      <td>bogo</td>\n",
       "      <td>5</td>\n",
       "      <td>50-59</td>\n",
       "    </tr>\n",
       "    <tr>\n",
       "      <th>1</th>\n",
       "      <td>75</td>\n",
       "      <td>2017-05-09</td>\n",
       "      <td>F</td>\n",
       "      <td>2</td>\n",
       "      <td>100000.0</td>\n",
       "      <td>offer received</td>\n",
       "      <td>0</td>\n",
       "      <td>9b98b8c7a33c4b65b9aebfe6a799e6d9</td>\n",
       "      <td>[web, email, mobile]</td>\n",
       "      <td>5</td>\n",
       "      <td>7</td>\n",
       "      <td>bogo</td>\n",
       "      <td>5</td>\n",
       "      <td>70+</td>\n",
       "    </tr>\n",
       "    <tr>\n",
       "      <th>2</th>\n",
       "      <td>75</td>\n",
       "      <td>2017-05-09</td>\n",
       "      <td>F</td>\n",
       "      <td>2</td>\n",
       "      <td>100000.0</td>\n",
       "      <td>offer viewed</td>\n",
       "      <td>6</td>\n",
       "      <td>9b98b8c7a33c4b65b9aebfe6a799e6d9</td>\n",
       "      <td>[web, email, mobile]</td>\n",
       "      <td>5</td>\n",
       "      <td>7</td>\n",
       "      <td>bogo</td>\n",
       "      <td>5</td>\n",
       "      <td>70+</td>\n",
       "    </tr>\n",
       "    <tr>\n",
       "      <th>3</th>\n",
       "      <td>68</td>\n",
       "      <td>2018-04-26</td>\n",
       "      <td>M</td>\n",
       "      <td>3</td>\n",
       "      <td>70000.0</td>\n",
       "      <td>offer received</td>\n",
       "      <td>408</td>\n",
       "      <td>9b98b8c7a33c4b65b9aebfe6a799e6d9</td>\n",
       "      <td>[web, email, mobile]</td>\n",
       "      <td>5</td>\n",
       "      <td>7</td>\n",
       "      <td>bogo</td>\n",
       "      <td>5</td>\n",
       "      <td>60-69</td>\n",
       "    </tr>\n",
       "    <tr>\n",
       "      <th>4</th>\n",
       "      <td>68</td>\n",
       "      <td>2018-04-26</td>\n",
       "      <td>M</td>\n",
       "      <td>3</td>\n",
       "      <td>70000.0</td>\n",
       "      <td>offer viewed</td>\n",
       "      <td>420</td>\n",
       "      <td>9b98b8c7a33c4b65b9aebfe6a799e6d9</td>\n",
       "      <td>[web, email, mobile]</td>\n",
       "      <td>5</td>\n",
       "      <td>7</td>\n",
       "      <td>bogo</td>\n",
       "      <td>5</td>\n",
       "      <td>60-69</td>\n",
       "    </tr>\n",
       "  </tbody>\n",
       "</table>\n",
       "</div>"
      ],
      "text/plain": [
       "   age subscription_date gender  user_id    income           event  time  \\\n",
       "0   55        2017-07-15      F        1  112000.0  offer received   408   \n",
       "1   75        2017-05-09      F        2  100000.0  offer received     0   \n",
       "2   75        2017-05-09      F        2  100000.0    offer viewed     6   \n",
       "3   68        2018-04-26      M        3   70000.0  offer received   408   \n",
       "4   68        2018-04-26      M        3   70000.0    offer viewed   420   \n",
       "\n",
       "                           offer id              channels  difficulty  \\\n",
       "0  9b98b8c7a33c4b65b9aebfe6a799e6d9  [web, email, mobile]           5   \n",
       "1  9b98b8c7a33c4b65b9aebfe6a799e6d9  [web, email, mobile]           5   \n",
       "2  9b98b8c7a33c4b65b9aebfe6a799e6d9  [web, email, mobile]           5   \n",
       "3  9b98b8c7a33c4b65b9aebfe6a799e6d9  [web, email, mobile]           5   \n",
       "4  9b98b8c7a33c4b65b9aebfe6a799e6d9  [web, email, mobile]           5   \n",
       "\n",
       "   duration offer_type  reward age_range  \n",
       "0         7       bogo       5     50-59  \n",
       "1         7       bogo       5       70+  \n",
       "2         7       bogo       5       70+  \n",
       "3         7       bogo       5     60-69  \n",
       "4         7       bogo       5     60-69  "
      ]
     },
     "execution_count": 21,
     "metadata": {},
     "output_type": "execute_result"
    }
   ],
   "source": [
    "def age_demographics(df):\n",
    "    '''\n",
    "    Creates a grouped variable in a dataframe\n",
    "    \n",
    "    INPUT: dataframe\n",
    "    OUTPUT: dataframe with grouped column\n",
    "    '''\n",
    "    bins = [18, 30, 40, 50, 60, 70, 120] # bins for grouped data\n",
    "    labels = ['18-29', '30-39', '40-49', '50-59', '60-69', '70+'] # labels of grouped data\n",
    "    df['age_range'] = pd.cut(df.age, bins, labels = labels,include_lowest = True) # separates them into bins and labels them\n",
    "    \n",
    "    return df.head()\n",
    "\n",
    "# age demographics is created for these dataframes\n",
    "# because they will be used in later parts of the project\n",
    "age_demographics(profile)\n",
    "age_demographics(df)\n",
    "age_demographics(merged_df)"
   ]
  },
  {
   "cell_type": "code",
   "execution_count": 22,
   "metadata": {},
   "outputs": [
    {
     "data": {
      "text/html": [
       "<div>\n",
       "<style scoped>\n",
       "    .dataframe tbody tr th:only-of-type {\n",
       "        vertical-align: middle;\n",
       "    }\n",
       "\n",
       "    .dataframe tbody tr th {\n",
       "        vertical-align: top;\n",
       "    }\n",
       "\n",
       "    .dataframe thead th {\n",
       "        text-align: right;\n",
       "    }\n",
       "</style>\n",
       "<table border=\"1\" class=\"dataframe\">\n",
       "  <thead>\n",
       "    <tr style=\"text-align: right;\">\n",
       "      <th></th>\n",
       "      <th>age</th>\n",
       "      <th>subscription_date</th>\n",
       "      <th>gender</th>\n",
       "      <th>user_id</th>\n",
       "      <th>income</th>\n",
       "      <th>event</th>\n",
       "      <th>time</th>\n",
       "      <th>offer id</th>\n",
       "      <th>channels</th>\n",
       "      <th>difficulty</th>\n",
       "      <th>duration</th>\n",
       "      <th>offer_type</th>\n",
       "      <th>reward</th>\n",
       "      <th>age_range</th>\n",
       "      <th>income_range</th>\n",
       "    </tr>\n",
       "  </thead>\n",
       "  <tbody>\n",
       "    <tr>\n",
       "      <th>0</th>\n",
       "      <td>55</td>\n",
       "      <td>2017-07-15</td>\n",
       "      <td>F</td>\n",
       "      <td>1</td>\n",
       "      <td>112000.0</td>\n",
       "      <td>offer received</td>\n",
       "      <td>408</td>\n",
       "      <td>9b98b8c7a33c4b65b9aebfe6a799e6d9</td>\n",
       "      <td>[web, email, mobile]</td>\n",
       "      <td>5</td>\n",
       "      <td>7</td>\n",
       "      <td>bogo</td>\n",
       "      <td>5</td>\n",
       "      <td>50-59</td>\n",
       "      <td>$111,000+</td>\n",
       "    </tr>\n",
       "    <tr>\n",
       "      <th>1</th>\n",
       "      <td>75</td>\n",
       "      <td>2017-05-09</td>\n",
       "      <td>F</td>\n",
       "      <td>2</td>\n",
       "      <td>100000.0</td>\n",
       "      <td>offer received</td>\n",
       "      <td>0</td>\n",
       "      <td>9b98b8c7a33c4b65b9aebfe6a799e6d9</td>\n",
       "      <td>[web, email, mobile]</td>\n",
       "      <td>5</td>\n",
       "      <td>7</td>\n",
       "      <td>bogo</td>\n",
       "      <td>5</td>\n",
       "      <td>70+</td>\n",
       "      <td>\\$91,000 - $110,000</td>\n",
       "    </tr>\n",
       "    <tr>\n",
       "      <th>2</th>\n",
       "      <td>75</td>\n",
       "      <td>2017-05-09</td>\n",
       "      <td>F</td>\n",
       "      <td>2</td>\n",
       "      <td>100000.0</td>\n",
       "      <td>offer viewed</td>\n",
       "      <td>6</td>\n",
       "      <td>9b98b8c7a33c4b65b9aebfe6a799e6d9</td>\n",
       "      <td>[web, email, mobile]</td>\n",
       "      <td>5</td>\n",
       "      <td>7</td>\n",
       "      <td>bogo</td>\n",
       "      <td>5</td>\n",
       "      <td>70+</td>\n",
       "      <td>\\$91,000 - $110,000</td>\n",
       "    </tr>\n",
       "    <tr>\n",
       "      <th>3</th>\n",
       "      <td>68</td>\n",
       "      <td>2018-04-26</td>\n",
       "      <td>M</td>\n",
       "      <td>3</td>\n",
       "      <td>70000.0</td>\n",
       "      <td>offer received</td>\n",
       "      <td>408</td>\n",
       "      <td>9b98b8c7a33c4b65b9aebfe6a799e6d9</td>\n",
       "      <td>[web, email, mobile]</td>\n",
       "      <td>5</td>\n",
       "      <td>7</td>\n",
       "      <td>bogo</td>\n",
       "      <td>5</td>\n",
       "      <td>60-69</td>\n",
       "      <td>\\$51,000 - $70,000</td>\n",
       "    </tr>\n",
       "    <tr>\n",
       "      <th>4</th>\n",
       "      <td>68</td>\n",
       "      <td>2018-04-26</td>\n",
       "      <td>M</td>\n",
       "      <td>3</td>\n",
       "      <td>70000.0</td>\n",
       "      <td>offer viewed</td>\n",
       "      <td>420</td>\n",
       "      <td>9b98b8c7a33c4b65b9aebfe6a799e6d9</td>\n",
       "      <td>[web, email, mobile]</td>\n",
       "      <td>5</td>\n",
       "      <td>7</td>\n",
       "      <td>bogo</td>\n",
       "      <td>5</td>\n",
       "      <td>60-69</td>\n",
       "      <td>\\$51,000 - $70,000</td>\n",
       "    </tr>\n",
       "  </tbody>\n",
       "</table>\n",
       "</div>"
      ],
      "text/plain": [
       "   age subscription_date gender  user_id    income           event  time  \\\n",
       "0   55        2017-07-15      F        1  112000.0  offer received   408   \n",
       "1   75        2017-05-09      F        2  100000.0  offer received     0   \n",
       "2   75        2017-05-09      F        2  100000.0    offer viewed     6   \n",
       "3   68        2018-04-26      M        3   70000.0  offer received   408   \n",
       "4   68        2018-04-26      M        3   70000.0    offer viewed   420   \n",
       "\n",
       "                           offer id              channels  difficulty  \\\n",
       "0  9b98b8c7a33c4b65b9aebfe6a799e6d9  [web, email, mobile]           5   \n",
       "1  9b98b8c7a33c4b65b9aebfe6a799e6d9  [web, email, mobile]           5   \n",
       "2  9b98b8c7a33c4b65b9aebfe6a799e6d9  [web, email, mobile]           5   \n",
       "3  9b98b8c7a33c4b65b9aebfe6a799e6d9  [web, email, mobile]           5   \n",
       "4  9b98b8c7a33c4b65b9aebfe6a799e6d9  [web, email, mobile]           5   \n",
       "\n",
       "   duration offer_type  reward age_range         income_range  \n",
       "0         7       bogo       5     50-59            $111,000+  \n",
       "1         7       bogo       5       70+  \\$91,000 - $110,000  \n",
       "2         7       bogo       5       70+  \\$91,000 - $110,000  \n",
       "3         7       bogo       5     60-69   \\$51,000 - $70,000  \n",
       "4         7       bogo       5     60-69   \\$51,000 - $70,000  "
      ]
     },
     "execution_count": 22,
     "metadata": {},
     "output_type": "execute_result"
    }
   ],
   "source": [
    "def income_demographics(df):\n",
    "    '''\n",
    "    Creates a grouped variable in a dataframe\n",
    "    \n",
    "    INPUT: dataframe\n",
    "    OUTPUT: dataframe with grouped column\n",
    "    '''\n",
    "    bins = [10000, 30000, 50000, 70000, 90000, 100000, 120000] # bins for grouped data\n",
    "    labels = ['\\$30,000 and below', '\\$31,000 - $50,000', '\\$51,000 - $70,000', '\\$71,000 - $90,000', \"\\$91,000 - $110,000\", '$111,000+'] # labels of grouped data\n",
    "    df['income_range'] = pd.cut(df.income, bins, labels = labels,include_lowest = True) # separates them into bins and labels them\n",
    "    \n",
    "    return df.head()\n",
    "\n",
    "\n",
    "# income demographics is created for these dataframes\n",
    "# because they will be used in later parts of the project\n",
    "income_demographics(profile)\n",
    "income_demographics(df)\n",
    "income_demographics(merged_df)"
   ]
  },
  {
   "cell_type": "markdown",
   "metadata": {},
   "source": [
    " ## Exploratory data analysis\n",
    " \n",
    " In this section the following will be looked at to better understand the data visually and get an overview of what I will be working with.\n",
    "\n",
    "We will look at:\n",
    "\n",
    "**Univariate analysis**\n",
    "- The age distribution of the customers\n",
    "- Income range of the customers\n",
    "- Subscription date of customer base\n",
    "- Gender distribution\n",
    "\n",
    "**Bi-variate analysis**\n",
    "- Distribution of income by age range\n",
    "\n",
    "**Multivariate analysis**\n",
    "- Correlation heat map\n",
    "- Event distribution based on gender and income\n",
    "- Event distribution based on age range and income\n",
    "\n",
    "This is an overview before segmenting the customers in chosen demographics"
   ]
  },
  {
   "cell_type": "markdown",
   "metadata": {},
   "source": [
    "### Univariate analysis\n",
    "\n",
    "- **Age range:**\n",
    "\n",
    "\n",
    "24% of customers are between the ages of 50 and 59 which form a majority of the customers followed by people bewteen 60 and 69. For a coffee company it was supprising that the least number of customers were aged between 18 and 39 accounting for a total of 22%. At first I assumed that customers between 18 to 39 will drink coffee more but it turned out different."
   ]
  },
  {
   "cell_type": "code",
   "execution_count": 23,
   "metadata": {},
   "outputs": [],
   "source": [
    "from matplotlib import pyplot as plt"
   ]
  },
  {
   "cell_type": "code",
   "execution_count": 24,
   "metadata": {},
   "outputs": [
    {
     "data": {
      "text/plain": [
       "50-59    24.215852\n",
       "60-69    19.629005\n",
       "70+      17.753794\n",
       "40-49    16.128162\n",
       "18-29    11.500843\n",
       "30-39    10.772344\n",
       "Name: age_range, dtype: float64"
      ]
     },
     "execution_count": 24,
     "metadata": {},
     "output_type": "execute_result"
    }
   ],
   "source": [
    "age_percentage = profile['age_range'].value_counts()/len(profile['age_range'])*100 # calculates the percentages of all age ranges\n",
    "\n",
    "age_percentage # displays percentage"
   ]
  },
  {
   "cell_type": "code",
   "execution_count": 25,
   "metadata": {},
   "outputs": [
    {
     "data": {
      "image/png": "[encoded data removed]",
      "text/plain": [
       "<matplotlib.figure.Figure at 0x7fc74d9869e8>"
      ]
     },
     "metadata": {
      "needs_background": "light"
     },
     "output_type": "display_data"
    }
   ],
   "source": [
    "def create_chart(df, title, x_label, y_label, kind):\n",
    "    '''\n",
    "    Creates a bar chart with titlle and labeled axis\n",
    "    \n",
    "    INPUT: dataframe, title and x and y labels\n",
    "    OUTPUT: bar chart\n",
    "    '''\n",
    "    df.plot(kind= kind, figsize=(10,6)) # plots bar chart\n",
    "    plt.suptitle(title) # title of plot\n",
    "    plt.xlabel(x_label) # label for x axis\n",
    "    plt.ylabel(y_label); # label for y axis\n",
    "    return\n",
    "\n",
    "\n",
    "# plots bar chart\n",
    "create_chart(age_percentage, 'Percentage of customers based on age range', 'Age range (yrs)', 'Percent %', 'bar')"
   ]
  },
  {
   "cell_type": "markdown",
   "metadata": {},
   "source": [
    "- **Income range:**\n",
    "\n",
    "34% of customers earn between \\\\$51,000 to \\\\$70,000 per year and it look likes most customers in general earn between \\\\$31,000 to \\\\$90,000 which accounts for 84.61%. This was not suprising to me. This is a considerable estimate of what happens in real business scenarios as these range of before have good buying power and are working class. Supprisingly I saw that those earning between \\\\$91,000 to \\\\$111,000+ per year were not close to half of the higher categories. Does this mean that people in this range do not buy coffee from starbuck directly? There might be other assumptions as well."
   ]
  },
  {
   "cell_type": "code",
   "execution_count": 26,
   "metadata": {},
   "outputs": [
    {
     "data": {
      "text/plain": [
       "\\$51,000 - $70,000     33.767285\n",
       "\\$31,000 - $50,000     26.617201\n",
       "\\$71,000 - $90,000     24.222597\n",
       "\\$91,000 - $110,000     8.013491\n",
       "$111,000+               6.785835\n",
       "\\$30,000 and below      0.593592\n",
       "Name: income_range, dtype: float64"
      ]
     },
     "execution_count": 26,
     "metadata": {},
     "output_type": "execute_result"
    }
   ],
   "source": [
    "income_percentage = profile['income_range'].value_counts()/len(profile['income_range'])*100 # calculates the percentages of all income ranges\n",
    "income_percentage # displays percentage"
   ]
  },
  {
   "cell_type": "code",
   "execution_count": 27,
   "metadata": {},
   "outputs": [
    {
     "data": {
      "image/png": "[encoded data removed]",
      "text/plain": [
       "<matplotlib.figure.Figure at 0x7fc700357da0>"
      ]
     },
     "metadata": {
      "needs_background": "light"
     },
     "output_type": "display_data"
    }
   ],
   "source": [
    "# plots a bar chart\n",
    "create_chart(income_percentage, 'Percentage of customers based on income', 'Income range ($ per year)', 'Percent %', 'bar')"
   ]
  },
  {
   "cell_type": "markdown",
   "metadata": {},
   "source": [
    "- **Subscription date:**\n",
    "\n",
    "From the graph below you can see that customers generally increased with time although the there was big spike towards the end of 2017. This can be due to so many things like good economy, effective campaigns during that season creating more brand awareness etc. It drops in 2018 although it is generally higher than previous years before the spike."
   ]
  },
  {
   "cell_type": "code",
   "execution_count": 28,
   "metadata": {},
   "outputs": [
    {
     "data": {
      "image/png": "[encoded data removed]",
      "text/plain": [
       "<matplotlib.figure.Figure at 0x7fc7002e3358>"
      ]
     },
     "metadata": {
      "needs_background": "light"
     },
     "output_type": "display_data"
    }
   ],
   "source": [
    "# plots a line chart\n",
    "create_chart(profile['subscription_date'].value_counts(), 'Time frame of subscriptions', 'Year', 'Count', 'line')"
   ]
  },
  {
   "cell_type": "markdown",
   "metadata": {},
   "source": [
    "- **Gender:**\n",
    "\n",
    "For this dataset it is seen that Starbucks has more male customers accounting for 57% and females at 41%. Other genders account for less than 2%"
   ]
  },
  {
   "cell_type": "code",
   "execution_count": 29,
   "metadata": {},
   "outputs": [
    {
     "data": {
      "text/plain": [
       "M    57.227656\n",
       "F    41.342327\n",
       "O     1.430017\n",
       "Name: gender, dtype: float64"
      ]
     },
     "execution_count": 29,
     "metadata": {},
     "output_type": "execute_result"
    }
   ],
   "source": [
    "gender_percentage = profile['gender'].value_counts()/len(profile['gender'])*100 # calculates the percentages of all income ranges\n",
    "gender_percentage # displays percentage"
   ]
  },
  {
   "cell_type": "code",
   "execution_count": 30,
   "metadata": {},
   "outputs": [
    {
     "data": {
      "image/png": "[encoded data removed]",
      "text/plain": [
       "<matplotlib.figure.Figure at 0x7fc7003cfc88>"
      ]
     },
     "metadata": {
      "needs_background": "light"
     },
     "output_type": "display_data"
    }
   ],
   "source": [
    "# plots a bar chart\n",
    "create_chart(gender_percentage, 'Percentage of customers based on gender', 'Gender', 'Percent %', 'bar')"
   ]
  },
  {
   "cell_type": "markdown",
   "metadata": {},
   "source": [
    "### Bi-variate analysis\n",
    "This is analysis with more 2 variables.\n",
    "\n",
    "- **Distribution of income by age range:**\n",
    "\n",
    "The box plot below shows that at age range 18 - 29, the distribution is somewhat normal although it is slightly right skewed and overall shows that the income of that range of customers are closer together. Its median income is about \\\\$50,000 per year. For 30 - 39, it is right (positive) skewed with it median salary closer to \\\\$60,000. Age 40 - 49 there are 4 outlier observations who earn close to \\\\$120,000. It is skewed to the right and has a s=wider spread of observations when compared to the previous ages.\n",
    "\n",
    "For the other age range, it can be said that they have are right skewed although they are close to being a normal distribution with median income around \\\\$70,000. Customer who are aged 60 - 69 have a median salary less than that of 50 - 59 and 70+ but is still close to the \\\\$70,000 mark. They both have a wide spread of data points."
   ]
  },
  {
   "cell_type": "code",
   "execution_count": 31,
   "metadata": {},
   "outputs": [
    {
     "data": {
      "image/png": "[encoded data removed]",
      "text/plain": [
       "<matplotlib.figure.Figure at 0x7fc70045ada0>"
      ]
     },
     "metadata": {
      "needs_background": "light"
     },
     "output_type": "display_data"
    }
   ],
   "source": [
    "plt.figure(figsize=(15,8)) # adjusts the size of the boxplot\n",
    "plt.suptitle('Distribution of income by age range') # title of plot\n",
    "ax = sns.boxplot(x=\"income\", y= \"age_range\", data = profile) # plots a boxplot\n",
    "ax.set(xlabel = 'Income', ylabel = 'Age Range'); # labels the axis of boxplot"
   ]
  },
  {
   "cell_type": "markdown",
   "metadata": {},
   "source": [
    "### Multivariate analysis:\n",
    "This is an analysis with more than 2 variables. In this section the 'merged_df' dataframe is used as we are looking at each activitie without considering the unique user id.\n",
    "\n",
    "- **Correlation heat map:**\n",
    "\n",
    "For this data, there are no strong correlations found although income and age are the variable closer to 1."
   ]
  },
  {
   "cell_type": "code",
   "execution_count": 32,
   "metadata": {},
   "outputs": [
    {
     "data": {
      "image/png": "[encoded data removed]",
      "text/plain": [
       "<matplotlib.figure.Figure at 0x7fc7004f52b0>"
      ]
     },
     "metadata": {
      "needs_background": "light"
     },
     "output_type": "display_data"
    }
   ],
   "source": [
    "sns.heatmap(df.corr(), annot = True); # displays a correlation heat map"
   ]
  },
  {
   "cell_type": "markdown",
   "metadata": {},
   "source": [
    "- **Event distribution based on gender and income:**\n",
    "From the bar chart below it clearly shows that females received, viewed, completed offers and did more transaction than male or other genders. Males slightly completed more offers than other genders. Starbucks female customers earn more that males and other genders even when they are 57% male customers and 41% female customers.\n",
    "\n",
    "**Note:** This is based on activities done by the unique customers. So 1 customer might interact with Starbucks offers more than 1 time."
   ]
  },
  {
   "cell_type": "code",
   "execution_count": 33,
   "metadata": {},
   "outputs": [
    {
     "data": {
      "image/png": "[encoded data removed]",
      "text/plain": [
       "<matplotlib.figure.Figure at 0x7fc70048a780>"
      ]
     },
     "metadata": {
      "needs_background": "light"
     },
     "output_type": "display_data"
    }
   ],
   "source": [
    "def create_seaborn_chart(df1, x_axis, y_axis, color, x_label, y_label, title):\n",
    "    '''\n",
    "    Creates a bar chart with seaborn library\n",
    "    \n",
    "    INPUT: dataframe, values for x and y axis, hue, labels for chart\n",
    "    and title of chart\n",
    "    \n",
    "    OUTPUT: a bar chart\n",
    "    '''\n",
    "    ax = sns.barplot(x=x_axis, y=y_axis, hue=color, data=df1) # plots bar chart\n",
    "    ax.set(xlabel=x_label, ylabel= y_label) # labels axis\n",
    "    plt.suptitle(title); # title of plot\n",
    "    return\n",
    "\n",
    "# plot a bar chart\n",
    "create_seaborn_chart(df, \"gender\", \"income\", \"event\", \"Gender\", \"Income\", \"Event distribution based on gender and income\")"
   ]
  },
  {
   "cell_type": "markdown",
   "metadata": {},
   "source": [
    "- **Event distribution based on age range and income**\n",
    "As age increases all events generally increase. This might be due to increase in buying power or that Starbucks has more customers between 40 to 70+ than they have between 18 to 39. All events are a bit proportional at each age range with offer completed being higher for each although the transactions for the age range 60 - 69 is slightly reduced compared to 50 - 59 and 70+ age range."
   ]
  },
  {
   "cell_type": "code",
   "execution_count": 34,
   "metadata": {},
   "outputs": [
    {
     "data": {
      "image/png": "[encoded data removed]",
      "text/plain": [
       "<matplotlib.figure.Figure at 0x7fc700692be0>"
      ]
     },
     "metadata": {
      "needs_background": "light"
     },
     "output_type": "display_data"
    }
   ],
   "source": [
    "# plot a bar chart\n",
    "create_seaborn_chart(df, \"age_range\", \"income\", \"event\", \"Age range\", \"Income\", \"Event distribution based on age range and income\")"
   ]
  },
  {
   "cell_type": "markdown",
   "metadata": {},
   "source": [
    "   "
   ]
  },
  {
   "cell_type": "markdown",
   "metadata": {},
   "source": [
    "   "
   ]
  },
  {
   "cell_type": "markdown",
   "metadata": {},
   "source": [
    "## Customer Segementation\n",
    "At this point of the project I have seen some general patterns in the data. It will be helpful to dig deep and uncover more details of the customer behaviour based on a stated demographics. For the dataset provided one can user either gender, income or age demographics to segment customers but for the purose of this project I chose to use income demographics as I thought it to be a better to know the spending power of their customers in order to distribute the targeted campaigns.\n",
    "\n",
    "I segmented customers into 5 groups:\n",
    "- Low Income: \\\\$30,000 and below\n",
    "- Low Middle Income: \\\\$31,000 to \\\\$50,000\n",
    "- Middle Income: \\\\$51,000 to \\\\$70,000\n",
    "- Middle High Icome: \\\\$71,000 to \\\\$90,000\n",
    "- High Income: \\\\$91,000 to \\\\$110,000 and \\\\$111,000 and above\n",
    "\n",
    "With this segementation, one should be able to see:\n",
    "- The number of customers in each group\n",
    "- How much was spent\n",
    "- Which gender spent more in each category\n",
    "- Number of events (activities) done.\n",
    "- Age range and events done. etc.\n",
    "\n",
    "in order to understand hidden patterns\n",
    "\n",
    "Also this will be used to know which demographic groups responded best to which offer type"
   ]
  },
  {
   "cell_type": "code",
   "execution_count": 35,
   "metadata": {},
   "outputs": [],
   "source": [
    "# segmented groups based on income range criteria\n",
    "low_income = df[(df['income_range'] == '\\$30,000 and below')] \n",
    "low_middle_income = df[(df['income_range'] == '\\$31,000 - $50,000')]\n",
    "middle_income = df[(df['income_range'] == '\\$51,000 - $70,000')]\n",
    "mid_high_income = df[(df['income_range'] == '\\$71,000 - $90,000')]\n",
    "high_income = df[(df['income_range'] == '\\$91,000 - $110,000') | (df['income_range'] == '$111,000+')]\n",
    "\n",
    "\n",
    "# segmented groups based on income range criteria\n",
    "low_income_offer = merged_df[(merged_df['income_range'] == '\\$30,000 and below')] \n",
    "low_middle_income_offer = merged_df[(merged_df['income_range'] == '\\$31,000 - $50,000')]\n",
    "middle_income_offer = merged_df[(merged_df['income_range'] == '\\$51,000 - $70,000')]\n",
    "mid_high_income_offer = merged_df[(merged_df['income_range'] == '\\$71,000 - $90,000')]\n",
    "high_income_offer = merged_df[(merged_df['income_range'] == '\\$91,000 - $110,000') | (merged_df['income_range'] == '$111,000+')]\n"
   ]
  },
  {
   "cell_type": "markdown",
   "metadata": {},
   "source": [
    "### Low Income Demographics\n",
    "\n",
    "This segment of Starbucks customers who earn \\\\$30,000 and below are grouped as low income because when compared to other income ranges in the dataset it is the least salary. This demographics has 88 customers with age ranging from 19 to 92 with 1,652 activities (events) consisting of 874 transactions. 396 offers were recieved  with 262 of those offers viewed accounting for 66% open rate and out of the 262 offers viewed, 120 offers were completed close to half (46%) of the offers viewed. Discount offers were recieved well by this group at 53%  (63) of completed offers and BOGO at 48% (57). Informational offers in this group were higher than the other offers 128\n",
    "\n",
    "Total amount spent on transaction is \\\\$4,335.32 with males making most of these transaction. It seems that since males make the most transactions, more offers are sent to them. In this group there are more people aged between 18 to 29 with more males and less female compared to the second highest age range 50 to 59 which has more females compare to the former (18 to 29). People aged 70 and above are less here. Those 18 to 29 make more transactions followed by customers aged 50 to 59."
   ]
  },
  {
   "cell_type": "code",
   "execution_count": 36,
   "metadata": {},
   "outputs": [
    {
     "data": {
      "text/plain": [
       "discount    63\n",
       "bogo        57\n",
       "Name: offer_type, dtype: int64"
      ]
     },
     "execution_count": 36,
     "metadata": {},
     "output_type": "execute_result"
    }
   ],
   "source": [
    "offers = portfolio.rename(columns = {'offer id': 'completed_offer_id'}) # renaming column\n",
    "\n",
    "completed_offer = low_income.merge(offers, on = 'completed_offer_id') # merging dataframe\n",
    "completed_offer[completed_offer['event'] == 'offer completed']['offer_type'].value_counts() # displays count of completed offers"
   ]
  },
  {
   "cell_type": "code",
   "execution_count": 87,
   "metadata": {},
   "outputs": [
    {
     "data": {
      "text/plain": [
       "informational    128\n",
       "Name: offer_type, dtype: int64"
      ]
     },
     "execution_count": 87,
     "metadata": {},
     "output_type": "execute_result"
    }
   ],
   "source": [
    "#number of informational offers\n",
    "low_income_offer[low_income_offer['offer_type'] == 'informational']['offer_type'].value_counts()"
   ]
  },
  {
   "cell_type": "code",
   "execution_count": 37,
   "metadata": {},
   "outputs": [
    {
     "data": {
      "text/plain": [
       "88"
      ]
     },
     "execution_count": 37,
     "metadata": {},
     "output_type": "execute_result"
    }
   ],
   "source": [
    "len(low_income['user_id'].unique()) # finds number of unique users"
   ]
  },
  {
   "cell_type": "code",
   "execution_count": 38,
   "metadata": {},
   "outputs": [
    {
     "name": "stdout",
     "output_type": "stream",
     "text": [
      "874\n",
      "396\n",
      "262\n",
      "120\n"
     ]
    },
    {
     "data": {
      "text/html": [
       "<div>\n",
       "<style scoped>\n",
       "    .dataframe tbody tr th:only-of-type {\n",
       "        vertical-align: middle;\n",
       "    }\n",
       "\n",
       "    .dataframe tbody tr th {\n",
       "        vertical-align: top;\n",
       "    }\n",
       "\n",
       "    .dataframe thead th {\n",
       "        text-align: right;\n",
       "    }\n",
       "</style>\n",
       "<table border=\"1\" class=\"dataframe\">\n",
       "  <thead>\n",
       "    <tr style=\"text-align: right;\">\n",
       "      <th></th>\n",
       "      <th>age</th>\n",
       "      <th>user_id</th>\n",
       "      <th>income</th>\n",
       "      <th>time</th>\n",
       "      <th>amount</th>\n",
       "      <th>reward</th>\n",
       "    </tr>\n",
       "  </thead>\n",
       "  <tbody>\n",
       "    <tr>\n",
       "      <th>count</th>\n",
       "      <td>1652.000000</td>\n",
       "      <td>1652.000000</td>\n",
       "      <td>1652.0</td>\n",
       "      <td>1652.000000</td>\n",
       "      <td>874.000000</td>\n",
       "      <td>120.000000</td>\n",
       "    </tr>\n",
       "    <tr>\n",
       "      <th>mean</th>\n",
       "      <td>47.716707</td>\n",
       "      <td>7825.322639</td>\n",
       "      <td>30000.0</td>\n",
       "      <td>364.329298</td>\n",
       "      <td>4.960320</td>\n",
       "      <td>4.225000</td>\n",
       "    </tr>\n",
       "    <tr>\n",
       "      <th>std</th>\n",
       "      <td>18.217433</td>\n",
       "      <td>4000.629990</td>\n",
       "      <td>0.0</td>\n",
       "      <td>202.009992</td>\n",
       "      <td>4.416026</td>\n",
       "      <td>2.247174</td>\n",
       "    </tr>\n",
       "    <tr>\n",
       "      <th>min</th>\n",
       "      <td>19.000000</td>\n",
       "      <td>29.000000</td>\n",
       "      <td>30000.0</td>\n",
       "      <td>0.000000</td>\n",
       "      <td>0.050000</td>\n",
       "      <td>2.000000</td>\n",
       "    </tr>\n",
       "    <tr>\n",
       "      <th>25%</th>\n",
       "      <td>33.000000</td>\n",
       "      <td>3980.000000</td>\n",
       "      <td>30000.0</td>\n",
       "      <td>180.000000</td>\n",
       "      <td>1.905000</td>\n",
       "      <td>2.000000</td>\n",
       "    </tr>\n",
       "    <tr>\n",
       "      <th>50%</th>\n",
       "      <td>47.000000</td>\n",
       "      <td>8522.000000</td>\n",
       "      <td>30000.0</td>\n",
       "      <td>408.000000</td>\n",
       "      <td>4.175000</td>\n",
       "      <td>5.000000</td>\n",
       "    </tr>\n",
       "    <tr>\n",
       "      <th>75%</th>\n",
       "      <td>62.000000</td>\n",
       "      <td>11522.000000</td>\n",
       "      <td>30000.0</td>\n",
       "      <td>522.000000</td>\n",
       "      <td>6.717500</td>\n",
       "      <td>5.000000</td>\n",
       "    </tr>\n",
       "    <tr>\n",
       "      <th>max</th>\n",
       "      <td>92.000000</td>\n",
       "      <td>14463.000000</td>\n",
       "      <td>30000.0</td>\n",
       "      <td>714.000000</td>\n",
       "      <td>63.300000</td>\n",
       "      <td>10.000000</td>\n",
       "    </tr>\n",
       "  </tbody>\n",
       "</table>\n",
       "</div>"
      ],
      "text/plain": [
       "               age       user_id   income         time      amount      reward\n",
       "count  1652.000000   1652.000000   1652.0  1652.000000  874.000000  120.000000\n",
       "mean     47.716707   7825.322639  30000.0   364.329298    4.960320    4.225000\n",
       "std      18.217433   4000.629990      0.0   202.009992    4.416026    2.247174\n",
       "min      19.000000     29.000000  30000.0     0.000000    0.050000    2.000000\n",
       "25%      33.000000   3980.000000  30000.0   180.000000    1.905000    2.000000\n",
       "50%      47.000000   8522.000000  30000.0   408.000000    4.175000    5.000000\n",
       "75%      62.000000  11522.000000  30000.0   522.000000    6.717500    5.000000\n",
       "max      92.000000  14463.000000  30000.0   714.000000   63.300000   10.000000"
      ]
     },
     "execution_count": 38,
     "metadata": {},
     "output_type": "execute_result"
    }
   ],
   "source": [
    "def counts(df, column_name, value):\n",
    "    '''\n",
    "    Gets the number of speified values in a column\n",
    "    \n",
    "    INPUT:\n",
    "    df - data frame\n",
    "    column_name - the column where the value resides\n",
    "    value - the actual data we want to count\n",
    "    '''\n",
    "    count = len(df[df[column_name] == value]) # count of specified values\n",
    "    return print(count) # prints the value\n",
    "\n",
    "#calls counts function\n",
    "counts(low_income, 'event', 'transaction')\n",
    "counts(low_income, 'event', 'offer received')\n",
    "counts(low_income, 'event', 'offer viewed')\n",
    "counts(low_income, 'event', 'offer completed')\n",
    "\n",
    "low_income.describe() # displays descriptive statistics for data frame"
   ]
  },
  {
   "cell_type": "code",
   "execution_count": 39,
   "metadata": {},
   "outputs": [
    {
     "data": {
      "image/png": "[encoded data removed]",
      "text/plain": [
       "<matplotlib.figure.Figure at 0x7ff7c0b51780>"
      ]
     },
     "metadata": {
      "needs_background": "light"
     },
     "output_type": "display_data"
    }
   ],
   "source": [
    "# plots a bar chart\n",
    "create_chart(low_income['event'].value_counts(), 'Number of events by users', 'Events', 'Counts', 'bar')"
   ]
  },
  {
   "cell_type": "code",
   "execution_count": 39,
   "metadata": {},
   "outputs": [
    {
     "name": "stdout",
     "output_type": "stream",
     "text": [
      "The amount spent by females in this group is $1177.41\n",
      "The amount spent by males in this group is $2939.43\n",
      "The amount spent by other gender in this group is $218.48\n",
      "----------------------------------------------------------\n",
      "Total amount spent in this group is $4335.32\n"
     ]
    }
   ],
   "source": [
    "def amount_spent_by_gender(df):\n",
    "    '''\n",
    "    Sums amount spent based on gender\n",
    "    and prints out details of money spent\n",
    "    by the demographics\n",
    "    \n",
    "    INPUT: dataframe\n",
    "    OUTPUT: amount spent by each gender and total amout spent\n",
    "    \n",
    "    '''\n",
    "    # finds sum and rounds up all amounts in the gender columns\n",
    "    amnt_female = round(df[df['gender'] == 'F']['amount'].sum(), 2)\n",
    "    amnt_male = round(df[df['gender'] == 'M']['amount'].sum(), 2)\n",
    "    amnt_other = round(df[df['gender'] == 'O']['amount'].sum(), 2)\n",
    "    Total = round(amnt_female + amnt_male + amnt_other, 2)\n",
    "\n",
    "    # prints results\n",
    "    print('The amount spent by females in this group is ${amnt_female}'.format(amnt_female = amnt_female ))\n",
    "    print('The amount spent by males in this group is ${amnt_male}'.format(amnt_male = amnt_male))\n",
    "    print('The amount spent by other gender in this group is ${amnt_other}'.format(amnt_other = amnt_other))\n",
    "    print('----------------------------------------------------------')\n",
    "    print('Total amount spent in this group is ${total}'.format(total = Total))\n",
    "    \n",
    "    return\n",
    "\n",
    "amount_spent_by_gender(low_income)"
   ]
  },
  {
   "cell_type": "code",
   "execution_count": 40,
   "metadata": {},
   "outputs": [
    {
     "data": {
      "image/png": "[encoded data removed]",
      "text/plain": [
       "<matplotlib.figure.Figure at 0x7fc7004ed550>"
      ]
     },
     "metadata": {
      "needs_background": "light"
     },
     "output_type": "display_data"
    }
   ],
   "source": [
    "def create_countplot(df1, x_axis, color, x_label, y_label, title):\n",
    "    '''\n",
    "    Creates a bar chart with seaborn library\n",
    "    \n",
    "    INPUT: dataframe, values for x and y axis, hue, labels for chart\n",
    "    and title of chart\n",
    "    \n",
    "    OUTPUT: a bar chart\n",
    "    '''\n",
    "    ax = sns.countplot(x=x_axis, hue=color, data=df1) # plots a bar chart \n",
    "    ax.set(xlabel=x_label, ylabel= y_label) # labels axis\n",
    "    plt.suptitle(title); # title of plot\n",
    "\n",
    "    return\n",
    "    \n",
    "# plots a grouped bar chart\n",
    "create_countplot(low_income, \"gender\", \"event\", \"Gender\", \"Count\", \"Count of gender in relation to event\")"
   ]
  },
  {
   "cell_type": "code",
   "execution_count": 41,
   "metadata": {},
   "outputs": [
    {
     "data": {
      "image/png": "[encoded data removed]",
      "text/plain": [
       "<matplotlib.figure.Figure at 0x7fc7007eeb70>"
      ]
     },
     "metadata": {
      "needs_background": "light"
     },
     "output_type": "display_data"
    }
   ],
   "source": [
    "# plots a grouped bar chart\n",
    "create_countplot(low_income, \"age_range\", \"gender\", \"Age range\", \"Count\", \"Count of age range in relation to gender\") "
   ]
  },
  {
   "cell_type": "code",
   "execution_count": 42,
   "metadata": {},
   "outputs": [
    {
     "data": {
      "image/png": "[encoded data removed]",
      "text/plain": [
       "<matplotlib.figure.Figure at 0x7fc700673470>"
      ]
     },
     "metadata": {
      "needs_background": "light"
     },
     "output_type": "display_data"
    }
   ],
   "source": [
    "# plots a grouped bar chart\n",
    "create_countplot(low_income, \"age_range\", \"event\", \"Age range\", \"Count\", \"Count of age range in relation to event\")"
   ]
  },
  {
   "cell_type": "markdown",
   "metadata": {},
   "source": [
    "### Low to Middle Income Demographics\n",
    "\n",
    "This segment of Starbucks customers earn between \\\\$31,000 to \\\\$50,000 and are grouped as low middle income. This a bit higher than the low income group but still encompases people who earn a low income compared to the salaries above it. This demographics has 3,946 customers with age ranging from 18 to 101 and average age of 48. This group accounts for 75,791 activities (events) consisting of 39,461 transactions. 17,715 offers were recieved with 12,183 of those offers viewed accounting for 69% open rate and out of the 12,183 offers viewed, 6,432 offers were completed making 53% of the offers viewed.\n",
    "Discount offers got more response by this group at 56%  (3,606) of completed offers and BOGO at 44% (2,826). Informational offers in this group were higher than the other offers 5,762\n",
    "\n",
    "Total amount spent on transaction is \\\\$271,027.79 with males making most of these transaction at \\\\$162,228.63 and females \\\\$105,206.98. It still seems that since males make the most transactions, more offers are sent to them same as low income group. The majority of people are aged between 18 to 29 do more transactions followed by 50 - 59 just like that of low income group."
   ]
  },
  {
   "cell_type": "markdown",
   "metadata": {},
   "source": [
    "  "
   ]
  },
  {
   "cell_type": "code",
   "execution_count": 43,
   "metadata": {},
   "outputs": [
    {
     "data": {
      "text/plain": [
       "discount    3606\n",
       "bogo        2826\n",
       "Name: offer_type, dtype: int64"
      ]
     },
     "execution_count": 43,
     "metadata": {},
     "output_type": "execute_result"
    }
   ],
   "source": [
    "completed_offer = low_middle_income.merge(offers, on = 'completed_offer_id') # merging dataframe\n",
    "completed_offer[completed_offer['event'] == 'offer completed']['offer_type'].value_counts() # displays count of completed offers"
   ]
  },
  {
   "cell_type": "code",
   "execution_count": 86,
   "metadata": {},
   "outputs": [
    {
     "data": {
      "text/plain": [
       "informational    5762\n",
       "Name: offer_type, dtype: int64"
      ]
     },
     "execution_count": 86,
     "metadata": {},
     "output_type": "execute_result"
    }
   ],
   "source": [
    "#number of informational offers\n",
    "low_middle_income_offer[low_middle_income_offer['offer_type'] == 'informational']['offer_type'].value_counts()"
   ]
  },
  {
   "cell_type": "code",
   "execution_count": 44,
   "metadata": {},
   "outputs": [
    {
     "data": {
      "text/plain": [
       "3946"
      ]
     },
     "execution_count": 44,
     "metadata": {},
     "output_type": "execute_result"
    }
   ],
   "source": [
    "len(low_middle_income['user_id'].unique()) # finds number of unique users"
   ]
  },
  {
   "cell_type": "code",
   "execution_count": 45,
   "metadata": {},
   "outputs": [
    {
     "name": "stdout",
     "output_type": "stream",
     "text": [
      "39461\n",
      "17715\n",
      "12183\n",
      "6432\n"
     ]
    },
    {
     "data": {
      "text/html": [
       "<div>\n",
       "<style scoped>\n",
       "    .dataframe tbody tr th:only-of-type {\n",
       "        vertical-align: middle;\n",
       "    }\n",
       "\n",
       "    .dataframe tbody tr th {\n",
       "        vertical-align: top;\n",
       "    }\n",
       "\n",
       "    .dataframe thead th {\n",
       "        text-align: right;\n",
       "    }\n",
       "</style>\n",
       "<table border=\"1\" class=\"dataframe\">\n",
       "  <thead>\n",
       "    <tr style=\"text-align: right;\">\n",
       "      <th></th>\n",
       "      <th>age</th>\n",
       "      <th>user_id</th>\n",
       "      <th>income</th>\n",
       "      <th>time</th>\n",
       "      <th>amount</th>\n",
       "      <th>reward</th>\n",
       "    </tr>\n",
       "  </thead>\n",
       "  <tbody>\n",
       "    <tr>\n",
       "      <th>count</th>\n",
       "      <td>75791.000000</td>\n",
       "      <td>75791.000000</td>\n",
       "      <td>75791.000000</td>\n",
       "      <td>75791.000000</td>\n",
       "      <td>39461.000000</td>\n",
       "      <td>6432.000000</td>\n",
       "    </tr>\n",
       "    <tr>\n",
       "      <th>mean</th>\n",
       "      <td>48.035637</td>\n",
       "      <td>7472.809436</td>\n",
       "      <td>40263.962740</td>\n",
       "      <td>367.936061</td>\n",
       "      <td>6.868244</td>\n",
       "      <td>4.574005</td>\n",
       "    </tr>\n",
       "    <tr>\n",
       "      <th>std</th>\n",
       "      <td>18.591669</td>\n",
       "      <td>4209.436826</td>\n",
       "      <td>5889.463356</td>\n",
       "      <td>200.888431</td>\n",
       "      <td>16.176931</td>\n",
       "      <td>2.698410</td>\n",
       "    </tr>\n",
       "    <tr>\n",
       "      <th>min</th>\n",
       "      <td>18.000000</td>\n",
       "      <td>7.000000</td>\n",
       "      <td>31000.000000</td>\n",
       "      <td>0.000000</td>\n",
       "      <td>0.050000</td>\n",
       "      <td>2.000000</td>\n",
       "    </tr>\n",
       "    <tr>\n",
       "      <th>25%</th>\n",
       "      <td>32.000000</td>\n",
       "      <td>3884.000000</td>\n",
       "      <td>35000.000000</td>\n",
       "      <td>192.000000</td>\n",
       "      <td>1.950000</td>\n",
       "      <td>2.000000</td>\n",
       "    </tr>\n",
       "    <tr>\n",
       "      <th>50%</th>\n",
       "      <td>47.000000</td>\n",
       "      <td>7520.000000</td>\n",
       "      <td>40000.000000</td>\n",
       "      <td>408.000000</td>\n",
       "      <td>4.570000</td>\n",
       "      <td>5.000000</td>\n",
       "    </tr>\n",
       "    <tr>\n",
       "      <th>75%</th>\n",
       "      <td>62.000000</td>\n",
       "      <td>11082.000000</td>\n",
       "      <td>45000.000000</td>\n",
       "      <td>534.000000</td>\n",
       "      <td>8.860000</td>\n",
       "      <td>5.000000</td>\n",
       "    </tr>\n",
       "    <tr>\n",
       "      <th>max</th>\n",
       "      <td>101.000000</td>\n",
       "      <td>14824.000000</td>\n",
       "      <td>50000.000000</td>\n",
       "      <td>714.000000</td>\n",
       "      <td>454.620000</td>\n",
       "      <td>10.000000</td>\n",
       "    </tr>\n",
       "  </tbody>\n",
       "</table>\n",
       "</div>"
      ],
      "text/plain": [
       "                age       user_id        income          time        amount  \\\n",
       "count  75791.000000  75791.000000  75791.000000  75791.000000  39461.000000   \n",
       "mean      48.035637   7472.809436  40263.962740    367.936061      6.868244   \n",
       "std       18.591669   4209.436826   5889.463356    200.888431     16.176931   \n",
       "min       18.000000      7.000000  31000.000000      0.000000      0.050000   \n",
       "25%       32.000000   3884.000000  35000.000000    192.000000      1.950000   \n",
       "50%       47.000000   7520.000000  40000.000000    408.000000      4.570000   \n",
       "75%       62.000000  11082.000000  45000.000000    534.000000      8.860000   \n",
       "max      101.000000  14824.000000  50000.000000    714.000000    454.620000   \n",
       "\n",
       "            reward  \n",
       "count  6432.000000  \n",
       "mean      4.574005  \n",
       "std       2.698410  \n",
       "min       2.000000  \n",
       "25%       2.000000  \n",
       "50%       5.000000  \n",
       "75%       5.000000  \n",
       "max      10.000000  "
      ]
     },
     "execution_count": 45,
     "metadata": {},
     "output_type": "execute_result"
    }
   ],
   "source": [
    "#calls counts function\n",
    "counts(low_middle_income, 'event', 'transaction')\n",
    "counts(low_middle_income, 'event', 'offer received')\n",
    "counts(low_middle_income, 'event', 'offer viewed')\n",
    "counts(low_middle_income, 'event', 'offer completed')\n",
    "\n",
    "low_middle_income.describe() # displays descriptive statistics for data frame"
   ]
  },
  {
   "cell_type": "code",
   "execution_count": 46,
   "metadata": {},
   "outputs": [
    {
     "data": {
      "image/png": "[encoded data removed]",
      "text/plain": [
       "<matplotlib.figure.Figure at 0x7fc700975908>"
      ]
     },
     "metadata": {
      "needs_background": "light"
     },
     "output_type": "display_data"
    }
   ],
   "source": [
    "# plots bar chart\n",
    "create_chart(low_middle_income['event'].value_counts(), 'Number of events by users', 'Events', 'Counts', 'bar')"
   ]
  },
  {
   "cell_type": "code",
   "execution_count": 47,
   "metadata": {},
   "outputs": [
    {
     "name": "stdout",
     "output_type": "stream",
     "text": [
      "The amount spent by females in this group is $105206.98\n",
      "The amount spent by males in this group is $162228.63\n",
      "The amount spent by other gender in this group is $3592.18\n",
      "----------------------------------------------------------\n",
      "Total amount spent in this group is $271027.79\n"
     ]
    }
   ],
   "source": [
    "amount_spent_by_gender(low_middle_income)"
   ]
  },
  {
   "cell_type": "code",
   "execution_count": 48,
   "metadata": {},
   "outputs": [
    {
     "data": {
      "image/png": "[encoded data removed]",
      "text/plain": [
       "<matplotlib.figure.Figure at 0x7fc7008fef98>"
      ]
     },
     "metadata": {
      "needs_background": "light"
     },
     "output_type": "display_data"
    }
   ],
   "source": [
    "# plots a grouped bar chart\n",
    "create_countplot(low_middle_income, \"gender\", \"event\", \"Gender\", \"Count\", \"Count of gender in relation to event\")"
   ]
  },
  {
   "cell_type": "code",
   "execution_count": 49,
   "metadata": {
    "scrolled": true
   },
   "outputs": [
    {
     "data": {
      "image/png": "[encoded data removed]",
      "text/plain": [
       "<matplotlib.figure.Figure at 0x7fc70080f080>"
      ]
     },
     "metadata": {
      "needs_background": "light"
     },
     "output_type": "display_data"
    }
   ],
   "source": [
    "# plots a grouped bar chart\n",
    "create_countplot(low_middle_income, \"age_range\", \"gender\", \"Age range\", \"Count\", \"Count of age range in relation to gender\")"
   ]
  },
  {
   "cell_type": "code",
   "execution_count": 50,
   "metadata": {},
   "outputs": [
    {
     "data": {
      "image/png": "[encoded data removed]",
      "text/plain": [
       "<matplotlib.figure.Figure at 0x7fc700a578d0>"
      ]
     },
     "metadata": {
      "needs_background": "light"
     },
     "output_type": "display_data"
    }
   ],
   "source": [
    "# plots a grouped bar chart\n",
    "create_countplot(low_middle_income, \"age_range\", \"event\", \"Age range\", \"Count\", \"Count of gender in relation to event\")"
   ]
  },
  {
   "cell_type": "markdown",
   "metadata": {},
   "source": [
    "  "
   ]
  },
  {
   "cell_type": "markdown",
   "metadata": {},
   "source": [
    "### Middle Income Demographics\n",
    "\n",
    "This segment of Starbucks customers earn between \\\\$51,000 to \\\\$70,000 and are grouped as middle income customers. This demographics has 5,006 customers with age ranging from 18 to 101 and average age of 48. This group accounts for 95,623 events consisting of 44,842 transactions. 22,495 offers were recieved with 17,671 of those offers viewed accounting for 79% open rate and out of the 17,671 offers viewed, 10,615 offers were completed making 60% of the viewed offers. Discount offers got more response by this group at 53%  (5,655) of completed offers and BOGO at 47% (4,960). Informational offers in this group were higher than the other offers 8,027\n",
    "\n",
    "Total amount spent on transaction is \\\\$525,708.12 with males making most of these transaction at \\\\$283,007.82 and females \\\\$231,965.85. It still seems that since males make the most transactions, more offers are sent to them same as previous groups also generally the number of transactions for females and events have increased compared to the demographics before this. The majority of people aged between 50 to 59 do more transactions followed by 40 - 49. In this group the 18 - 29 age range has reduced and an increased female presence in all age ranges compared to the previous income demographics."
   ]
  },
  {
   "cell_type": "code",
   "execution_count": 51,
   "metadata": {},
   "outputs": [
    {
     "data": {
      "text/plain": [
       "discount    5655\n",
       "bogo        4960\n",
       "Name: offer_type, dtype: int64"
      ]
     },
     "execution_count": 51,
     "metadata": {},
     "output_type": "execute_result"
    }
   ],
   "source": [
    "completed_offer = middle_income.merge(offers, on = 'completed_offer_id') # merging dataframe\n",
    "completed_offer[completed_offer['event'] == 'offer completed']['offer_type'].value_counts() # displays count of completed offers"
   ]
  },
  {
   "cell_type": "code",
   "execution_count": 85,
   "metadata": {},
   "outputs": [
    {
     "data": {
      "text/plain": [
       "informational    8027\n",
       "Name: offer_type, dtype: int64"
      ]
     },
     "execution_count": 85,
     "metadata": {},
     "output_type": "execute_result"
    }
   ],
   "source": [
    "#number of informational offers\n",
    "middle_income_offer[middle_income_offer['offer_type'] == 'informational']['offer_type'].value_counts()"
   ]
  },
  {
   "cell_type": "code",
   "execution_count": 52,
   "metadata": {},
   "outputs": [
    {
     "data": {
      "text/plain": [
       "5006"
      ]
     },
     "execution_count": 52,
     "metadata": {},
     "output_type": "execute_result"
    }
   ],
   "source": [
    "len(middle_income['user_id'].unique()) # finds number of unique users"
   ]
  },
  {
   "cell_type": "code",
   "execution_count": 53,
   "metadata": {},
   "outputs": [
    {
     "name": "stdout",
     "output_type": "stream",
     "text": [
      "44842\n",
      "22495\n",
      "17671\n",
      "10615\n"
     ]
    },
    {
     "data": {
      "text/html": [
       "<div>\n",
       "<style scoped>\n",
       "    .dataframe tbody tr th:only-of-type {\n",
       "        vertical-align: middle;\n",
       "    }\n",
       "\n",
       "    .dataframe tbody tr th {\n",
       "        vertical-align: top;\n",
       "    }\n",
       "\n",
       "    .dataframe thead th {\n",
       "        text-align: right;\n",
       "    }\n",
       "</style>\n",
       "<table border=\"1\" class=\"dataframe\">\n",
       "  <thead>\n",
       "    <tr style=\"text-align: right;\">\n",
       "      <th></th>\n",
       "      <th>age</th>\n",
       "      <th>user_id</th>\n",
       "      <th>income</th>\n",
       "      <th>time</th>\n",
       "      <th>amount</th>\n",
       "      <th>reward</th>\n",
       "    </tr>\n",
       "  </thead>\n",
       "  <tbody>\n",
       "    <tr>\n",
       "      <th>count</th>\n",
       "      <td>95623.000000</td>\n",
       "      <td>95623.000000</td>\n",
       "      <td>95623.000000</td>\n",
       "      <td>95623.000000</td>\n",
       "      <td>44842.000000</td>\n",
       "      <td>10615.000000</td>\n",
       "    </tr>\n",
       "    <tr>\n",
       "      <th>mean</th>\n",
       "      <td>51.830125</td>\n",
       "      <td>7400.841022</td>\n",
       "      <td>60128.703345</td>\n",
       "      <td>366.711482</td>\n",
       "      <td>11.723565</td>\n",
       "      <td>4.894489</td>\n",
       "    </tr>\n",
       "    <tr>\n",
       "      <th>std</th>\n",
       "      <td>17.646475</td>\n",
       "      <td>4330.120191</td>\n",
       "      <td>5792.204540</td>\n",
       "      <td>200.627149</td>\n",
       "      <td>24.529901</td>\n",
       "      <td>2.878840</td>\n",
       "    </tr>\n",
       "    <tr>\n",
       "      <th>min</th>\n",
       "      <td>18.000000</td>\n",
       "      <td>3.000000</td>\n",
       "      <td>51000.000000</td>\n",
       "      <td>0.000000</td>\n",
       "      <td>0.050000</td>\n",
       "      <td>2.000000</td>\n",
       "    </tr>\n",
       "    <tr>\n",
       "      <th>25%</th>\n",
       "      <td>39.000000</td>\n",
       "      <td>3638.000000</td>\n",
       "      <td>55000.000000</td>\n",
       "      <td>186.000000</td>\n",
       "      <td>3.460000</td>\n",
       "      <td>2.000000</td>\n",
       "    </tr>\n",
       "    <tr>\n",
       "      <th>50%</th>\n",
       "      <td>52.000000</td>\n",
       "      <td>7357.000000</td>\n",
       "      <td>60000.000000</td>\n",
       "      <td>408.000000</td>\n",
       "      <td>9.870000</td>\n",
       "      <td>5.000000</td>\n",
       "    </tr>\n",
       "    <tr>\n",
       "      <th>75%</th>\n",
       "      <td>64.000000</td>\n",
       "      <td>11222.000000</td>\n",
       "      <td>65000.000000</td>\n",
       "      <td>534.000000</td>\n",
       "      <td>15.830000</td>\n",
       "      <td>5.000000</td>\n",
       "    </tr>\n",
       "    <tr>\n",
       "      <th>max</th>\n",
       "      <td>101.000000</td>\n",
       "      <td>14821.000000</td>\n",
       "      <td>70000.000000</td>\n",
       "      <td>714.000000</td>\n",
       "      <td>723.100000</td>\n",
       "      <td>10.000000</td>\n",
       "    </tr>\n",
       "  </tbody>\n",
       "</table>\n",
       "</div>"
      ],
      "text/plain": [
       "                age       user_id        income          time        amount  \\\n",
       "count  95623.000000  95623.000000  95623.000000  95623.000000  44842.000000   \n",
       "mean      51.830125   7400.841022  60128.703345    366.711482     11.723565   \n",
       "std       17.646475   4330.120191   5792.204540    200.627149     24.529901   \n",
       "min       18.000000      3.000000  51000.000000      0.000000      0.050000   \n",
       "25%       39.000000   3638.000000  55000.000000    186.000000      3.460000   \n",
       "50%       52.000000   7357.000000  60000.000000    408.000000      9.870000   \n",
       "75%       64.000000  11222.000000  65000.000000    534.000000     15.830000   \n",
       "max      101.000000  14821.000000  70000.000000    714.000000    723.100000   \n",
       "\n",
       "             reward  \n",
       "count  10615.000000  \n",
       "mean       4.894489  \n",
       "std        2.878840  \n",
       "min        2.000000  \n",
       "25%        2.000000  \n",
       "50%        5.000000  \n",
       "75%        5.000000  \n",
       "max       10.000000  "
      ]
     },
     "execution_count": 53,
     "metadata": {},
     "output_type": "execute_result"
    }
   ],
   "source": [
    "# calls the counts function\n",
    "counts(middle_income, 'event', 'transaction')\n",
    "counts(middle_income, 'event', 'offer received')\n",
    "counts(middle_income, 'event', 'offer viewed')\n",
    "counts(middle_income, 'event', 'offer completed')\n",
    "\n",
    "middle_income.describe() # displays descriptive statistics for data frame"
   ]
  },
  {
   "cell_type": "code",
   "execution_count": 54,
   "metadata": {},
   "outputs": [
    {
     "name": "stdout",
     "output_type": "stream",
     "text": [
      "The amount spent by females in this group is $231965.85\n",
      "The amount spent by males in this group is $283007.82\n",
      "The amount spent by other gender in this group is $10734.45\n",
      "----------------------------------------------------------\n",
      "Total amount spent in this group is $525708.12\n"
     ]
    }
   ],
   "source": [
    "amount_spent_by_gender(middle_income)"
   ]
  },
  {
   "cell_type": "code",
   "execution_count": 55,
   "metadata": {},
   "outputs": [
    {
     "data": {
      "image/png": "[encoded data removed]",
      "text/plain": [
       "<matplotlib.figure.Figure at 0x7fc700b1dbe0>"
      ]
     },
     "metadata": {
      "needs_background": "light"
     },
     "output_type": "display_data"
    }
   ],
   "source": [
    "# plots bar chart\n",
    "create_chart(middle_income['event'].value_counts(), 'Number of events by users', 'Events', 'Counts', 'bar')"
   ]
  },
  {
   "cell_type": "code",
   "execution_count": 56,
   "metadata": {},
   "outputs": [
    {
     "data": {
      "image/png": "[encoded data removed]",
      "text/plain": [
       "<matplotlib.figure.Figure at 0x7fc7008fb8d0>"
      ]
     },
     "metadata": {
      "needs_background": "light"
     },
     "output_type": "display_data"
    }
   ],
   "source": [
    "# plots a grouped bar chart\n",
    "create_countplot(middle_income, \"gender\", \"event\", \"Gender\", \"Count\", \"Count of gender in relation to event\")"
   ]
  },
  {
   "cell_type": "code",
   "execution_count": 57,
   "metadata": {},
   "outputs": [
    {
     "data": {
      "image/png": "[encoded data removed]",
      "text/plain": [
       "<matplotlib.figure.Figure at 0x7fc700acbcc0>"
      ]
     },
     "metadata": {
      "needs_background": "light"
     },
     "output_type": "display_data"
    }
   ],
   "source": [
    "# plots a grouped bar chart\n",
    "create_countplot(middle_income, \"age_range\", \"gender\", \"Age range\", \"Count\", \"Count of age range in relation to gender\")"
   ]
  },
  {
   "cell_type": "code",
   "execution_count": 58,
   "metadata": {},
   "outputs": [
    {
     "data": {
      "image/png": "[encoded data removed]",
      "text/plain": [
       "<matplotlib.figure.Figure at 0x7fc700c750f0>"
      ]
     },
     "metadata": {
      "needs_background": "light"
     },
     "output_type": "display_data"
    }
   ],
   "source": [
    "# plots a grouped bar chart\n",
    "create_countplot(middle_income, \"age_range\", \"event\", \"Age range\", \"Count\", \"Count of age range in relation to event\")"
   ]
  },
  {
   "cell_type": "markdown",
   "metadata": {},
   "source": [
    " "
   ]
  },
  {
   "cell_type": "markdown",
   "metadata": {},
   "source": [
    "### Middle to High Income Demographics\n",
    "\n",
    "This segment of Starbucks customers earn between \\\\$71,000 to \\\\$90,000 and are grouped as middle income customers. This demographics has 3,591 customers with age ranging from 18 to 101 and average age of 59. This group accounts for 63,044 events consisting of 25,183 transactions. 16,081 offers were recieved with 12,508 of those offers viewed accounting for 77% open rate and out of the 12,508 offers viewed, 9,272 offers were completed making 74% of the viewed offers. Discount offers got more response by this group at 52%  (4,832) of completed offers and BOGO at 48% (4,440). Informational offers in this group were higher than the other offers 5,442\n",
    "\n",
    "Total amount spent on transaction is \\\\$528,815.41 with females making most of these transaction at \\\\$286,516.63 and males \\\\$234,438.02. For this segment of customers, transaction is closely tied although females make slightly more transactions than males. The majority of people aged between 50 to 59 do more transactions and it is seen that from ages 50 down to 70+ females are more than males but from 18 to 49 males are more. The number of customers between 18 and 29 decrease more when compared to previous income demographics."
   ]
  },
  {
   "cell_type": "code",
   "execution_count": 59,
   "metadata": {},
   "outputs": [
    {
     "data": {
      "text/plain": [
       "discount    4832\n",
       "bogo        4440\n",
       "Name: offer_type, dtype: int64"
      ]
     },
     "execution_count": 59,
     "metadata": {},
     "output_type": "execute_result"
    }
   ],
   "source": [
    "completed_offer = mid_high_income.merge(offers, on = 'completed_offer_id') # merging dataframe\n",
    "completed_offer[completed_offer['event'] == 'offer completed']['offer_type'].value_counts() # displays count of completed offers"
   ]
  },
  {
   "cell_type": "code",
   "execution_count": 84,
   "metadata": {},
   "outputs": [
    {
     "data": {
      "text/plain": [
       "informational    5442\n",
       "Name: offer_type, dtype: int64"
      ]
     },
     "execution_count": 84,
     "metadata": {},
     "output_type": "execute_result"
    }
   ],
   "source": [
    "#number of informational offers\n",
    "mid_high_income_offer[mid_high_income_offer['offer_type'] == 'informational']['offer_type'].value_counts()"
   ]
  },
  {
   "cell_type": "code",
   "execution_count": 60,
   "metadata": {},
   "outputs": [
    {
     "data": {
      "text/plain": [
       "3591"
      ]
     },
     "execution_count": 60,
     "metadata": {},
     "output_type": "execute_result"
    }
   ],
   "source": [
    "len(mid_high_income['user_id'].unique()) # finds number of unique users"
   ]
  },
  {
   "cell_type": "code",
   "execution_count": 61,
   "metadata": {},
   "outputs": [
    {
     "name": "stdout",
     "output_type": "stream",
     "text": [
      "25183\n",
      "16081\n",
      "12508\n",
      "9272\n"
     ]
    },
    {
     "data": {
      "text/html": [
       "<div>\n",
       "<style scoped>\n",
       "    .dataframe tbody tr th:only-of-type {\n",
       "        vertical-align: middle;\n",
       "    }\n",
       "\n",
       "    .dataframe tbody tr th {\n",
       "        vertical-align: top;\n",
       "    }\n",
       "\n",
       "    .dataframe thead th {\n",
       "        text-align: right;\n",
       "    }\n",
       "</style>\n",
       "<table border=\"1\" class=\"dataframe\">\n",
       "  <thead>\n",
       "    <tr style=\"text-align: right;\">\n",
       "      <th></th>\n",
       "      <th>age</th>\n",
       "      <th>user_id</th>\n",
       "      <th>income</th>\n",
       "      <th>time</th>\n",
       "      <th>amount</th>\n",
       "      <th>reward</th>\n",
       "    </tr>\n",
       "  </thead>\n",
       "  <tbody>\n",
       "    <tr>\n",
       "      <th>count</th>\n",
       "      <td>63044.000000</td>\n",
       "      <td>63044.000000</td>\n",
       "      <td>63044.000000</td>\n",
       "      <td>63044.000000</td>\n",
       "      <td>25183.000000</td>\n",
       "      <td>9272.000000</td>\n",
       "    </tr>\n",
       "    <tr>\n",
       "      <th>mean</th>\n",
       "      <td>58.687266</td>\n",
       "      <td>7357.564082</td>\n",
       "      <td>78685.473637</td>\n",
       "      <td>366.173593</td>\n",
       "      <td>20.998904</td>\n",
       "      <td>5.102675</td>\n",
       "    </tr>\n",
       "    <tr>\n",
       "      <th>std</th>\n",
       "      <td>15.175538</td>\n",
       "      <td>4263.545976</td>\n",
       "      <td>5947.632796</td>\n",
       "      <td>199.957584</td>\n",
       "      <td>40.500334</td>\n",
       "      <td>2.986943</td>\n",
       "    </tr>\n",
       "    <tr>\n",
       "      <th>min</th>\n",
       "      <td>18.000000</td>\n",
       "      <td>8.000000</td>\n",
       "      <td>71000.000000</td>\n",
       "      <td>0.000000</td>\n",
       "      <td>0.050000</td>\n",
       "      <td>2.000000</td>\n",
       "    </tr>\n",
       "    <tr>\n",
       "      <th>25%</th>\n",
       "      <td>50.000000</td>\n",
       "      <td>3626.000000</td>\n",
       "      <td>73000.000000</td>\n",
       "      <td>186.000000</td>\n",
       "      <td>13.700000</td>\n",
       "      <td>2.000000</td>\n",
       "    </tr>\n",
       "    <tr>\n",
       "      <th>50%</th>\n",
       "      <td>58.000000</td>\n",
       "      <td>7317.000000</td>\n",
       "      <td>78000.000000</td>\n",
       "      <td>408.000000</td>\n",
       "      <td>19.040000</td>\n",
       "      <td>5.000000</td>\n",
       "    </tr>\n",
       "    <tr>\n",
       "      <th>75%</th>\n",
       "      <td>68.000000</td>\n",
       "      <td>11028.000000</td>\n",
       "      <td>84000.000000</td>\n",
       "      <td>528.000000</td>\n",
       "      <td>24.220000</td>\n",
       "      <td>5.000000</td>\n",
       "    </tr>\n",
       "    <tr>\n",
       "      <th>max</th>\n",
       "      <td>101.000000</td>\n",
       "      <td>14825.000000</td>\n",
       "      <td>90000.000000</td>\n",
       "      <td>714.000000</td>\n",
       "      <td>1015.730000</td>\n",
       "      <td>10.000000</td>\n",
       "    </tr>\n",
       "  </tbody>\n",
       "</table>\n",
       "</div>"
      ],
      "text/plain": [
       "                age       user_id        income          time        amount  \\\n",
       "count  63044.000000  63044.000000  63044.000000  63044.000000  25183.000000   \n",
       "mean      58.687266   7357.564082  78685.473637    366.173593     20.998904   \n",
       "std       15.175538   4263.545976   5947.632796    199.957584     40.500334   \n",
       "min       18.000000      8.000000  71000.000000      0.000000      0.050000   \n",
       "25%       50.000000   3626.000000  73000.000000    186.000000     13.700000   \n",
       "50%       58.000000   7317.000000  78000.000000    408.000000     19.040000   \n",
       "75%       68.000000  11028.000000  84000.000000    528.000000     24.220000   \n",
       "max      101.000000  14825.000000  90000.000000    714.000000   1015.730000   \n",
       "\n",
       "            reward  \n",
       "count  9272.000000  \n",
       "mean      5.102675  \n",
       "std       2.986943  \n",
       "min       2.000000  \n",
       "25%       2.000000  \n",
       "50%       5.000000  \n",
       "75%       5.000000  \n",
       "max      10.000000  "
      ]
     },
     "execution_count": 61,
     "metadata": {},
     "output_type": "execute_result"
    }
   ],
   "source": [
    "# calls the counts function\n",
    "counts(mid_high_income, 'event', 'transaction')\n",
    "counts(mid_high_income, 'event', 'offer received')\n",
    "counts(mid_high_income, 'event', 'offer viewed')\n",
    "counts(mid_high_income, 'event', 'offer completed')\n",
    "\n",
    "mid_high_income.describe() # displays descriptive statistics for data frame"
   ]
  },
  {
   "cell_type": "code",
   "execution_count": 62,
   "metadata": {},
   "outputs": [
    {
     "data": {
      "image/png": "[encoded data removed]",
      "text/plain": [
       "<matplotlib.figure.Figure at 0x7fc700c4c860>"
      ]
     },
     "metadata": {
      "needs_background": "light"
     },
     "output_type": "display_data"
    }
   ],
   "source": [
    "# plots bar chart\n",
    "create_chart(mid_high_income['event'].value_counts(), 'Number of events by users', 'Events', 'Counts', 'bar')"
   ]
  },
  {
   "cell_type": "code",
   "execution_count": 63,
   "metadata": {},
   "outputs": [
    {
     "name": "stdout",
     "output_type": "stream",
     "text": [
      "The amount spent by females in this group is $286516.63\n",
      "The amount spent by males in this group is $234438.02\n",
      "The amount spent by other gender in this group is $7860.76\n",
      "----------------------------------------------------------\n",
      "Total amount spent in this group is $528815.41\n"
     ]
    }
   ],
   "source": [
    "amount_spent_by_gender(mid_high_income)"
   ]
  },
  {
   "cell_type": "code",
   "execution_count": 64,
   "metadata": {},
   "outputs": [
    {
     "data": {
      "image/png": "[encoded data removed]",
      "text/plain": [
       "<matplotlib.figure.Figure at 0x7fc700d534a8>"
      ]
     },
     "metadata": {
      "needs_background": "light"
     },
     "output_type": "display_data"
    }
   ],
   "source": [
    "# plots a grouped bar chart\n",
    "create_countplot(mid_high_income, \"gender\", \"event\", \"Gender\", \"Count\", \"Count of gender in relation to event\")"
   ]
  },
  {
   "cell_type": "code",
   "execution_count": 65,
   "metadata": {},
   "outputs": [
    {
     "data": {
      "image/png": "[encoded data removed]",
      "text/plain": [
       "<matplotlib.figure.Figure at 0x7fc700de1d68>"
      ]
     },
     "metadata": {
      "needs_background": "light"
     },
     "output_type": "display_data"
    }
   ],
   "source": [
    "# plots a grouped bar chart\n",
    "create_countplot(mid_high_income, \"age_range\", \"gender\", \"Age range\", \"Count\", \"Count of age range in relation to gender\")"
   ]
  },
  {
   "cell_type": "code",
   "execution_count": 68,
   "metadata": {},
   "outputs": [
    {
     "data": {
      "image/png": "[encoded data removed]",
      "text/plain": [
       "<matplotlib.figure.Figure at 0x7fc700fa9e10>"
      ]
     },
     "metadata": {
      "needs_background": "light"
     },
     "output_type": "display_data"
    }
   ],
   "source": [
    "# plots a grouped bar chart\n",
    "create_countplot(mid_high_income, \"age_range\", \"event\", \"Age range\", \"Count\", \"Count of age range in relation to event\")"
   ]
  },
  {
   "cell_type": "markdown",
   "metadata": {},
   "source": [
    "  "
   ]
  },
  {
   "cell_type": "markdown",
   "metadata": {},
   "source": [
    "### High Income Demographics\n",
    "\n",
    "This segment of Starbucks customers earn between \\\\$91,000 to \\\\$110,000 and \\\\$111,000+ and are grouped as high income customers. This demographics has 2,194 customers with age ranging from 36 to 101 and average age of 63. This group accounts for 36,652 events consisting of 13,597 transactions. 9,814 offers were recieved with 7,236 of those offers viewed accounting for 74% open rate and out of the 7,236 offers viewed, 6,005 offers were completed making 83% of the viewed offers. Discount offers got more response by this group at 50.5%  (3,030) of completed offers and BOGO at 49.5% (2,975). Informational offers in this group were higher than the other offers 3,301\n",
    "\n",
    "Total amount spent on transaction is \\\\$405,055.76 with females making most of these transaction at \\\\$238,828.13 and males spending less at \\\\$162,276.96. Unlike other groups, females are more than males with more transactions being completed by females. The majority of people aged between 50 to 59 do more transactions followed by 70+ age range which is slightly higher than the 60 - 69 age group. In this group there are no customers between 18 - 29 and a small number of customers in the 30 - 39 range."
   ]
  },
  {
   "cell_type": "code",
   "execution_count": 69,
   "metadata": {},
   "outputs": [
    {
     "data": {
      "text/plain": [
       "discount    3030\n",
       "bogo        2975\n",
       "Name: offer_type, dtype: int64"
      ]
     },
     "execution_count": 69,
     "metadata": {},
     "output_type": "execute_result"
    }
   ],
   "source": [
    "completed_offer = high_income.merge(offers, on = 'completed_offer_id') # merging dataframe\n",
    "completed_offer[completed_offer['event'] == 'offer completed']['offer_type'].value_counts() # displays count of completed offers"
   ]
  },
  {
   "cell_type": "code",
   "execution_count": 83,
   "metadata": {},
   "outputs": [
    {
     "data": {
      "text/plain": [
       "informational    3301\n",
       "Name: offer_type, dtype: int64"
      ]
     },
     "execution_count": 83,
     "metadata": {},
     "output_type": "execute_result"
    }
   ],
   "source": [
    "#number of informational offers\n",
    "high_income_offer[high_income_offer['offer_type'] == 'informational']['offer_type'].value_counts()"
   ]
  },
  {
   "cell_type": "code",
   "execution_count": 70,
   "metadata": {},
   "outputs": [
    {
     "data": {
      "text/plain": [
       "2194"
      ]
     },
     "execution_count": 70,
     "metadata": {},
     "output_type": "execute_result"
    }
   ],
   "source": [
    "len(high_income['user_id'].unique()) # finds number of unique users"
   ]
  },
  {
   "cell_type": "code",
   "execution_count": 71,
   "metadata": {},
   "outputs": [
    {
     "name": "stdout",
     "output_type": "stream",
     "text": [
      "13597\n",
      "9814\n",
      "7236\n",
      "6005\n"
     ]
    },
    {
     "data": {
      "text/html": [
       "<div>\n",
       "<style scoped>\n",
       "    .dataframe tbody tr th:only-of-type {\n",
       "        vertical-align: middle;\n",
       "    }\n",
       "\n",
       "    .dataframe tbody tr th {\n",
       "        vertical-align: top;\n",
       "    }\n",
       "\n",
       "    .dataframe thead th {\n",
       "        text-align: right;\n",
       "    }\n",
       "</style>\n",
       "<table border=\"1\" class=\"dataframe\">\n",
       "  <thead>\n",
       "    <tr style=\"text-align: right;\">\n",
       "      <th></th>\n",
       "      <th>age</th>\n",
       "      <th>user_id</th>\n",
       "      <th>income</th>\n",
       "      <th>time</th>\n",
       "      <th>amount</th>\n",
       "      <th>reward</th>\n",
       "    </tr>\n",
       "  </thead>\n",
       "  <tbody>\n",
       "    <tr>\n",
       "      <th>count</th>\n",
       "      <td>36652.000000</td>\n",
       "      <td>36652.000000</td>\n",
       "      <td>36652.000000</td>\n",
       "      <td>36652.000000</td>\n",
       "      <td>13597.000000</td>\n",
       "      <td>6005.000000</td>\n",
       "    </tr>\n",
       "    <tr>\n",
       "      <th>mean</th>\n",
       "      <td>63.029766</td>\n",
       "      <td>7398.684137</td>\n",
       "      <td>101963.030667</td>\n",
       "      <td>365.183619</td>\n",
       "      <td>29.790083</td>\n",
       "      <td>5.220150</td>\n",
       "    </tr>\n",
       "    <tr>\n",
       "      <th>std</th>\n",
       "      <td>12.144621</td>\n",
       "      <td>4313.978231</td>\n",
       "      <td>8419.411761</td>\n",
       "      <td>199.170398</td>\n",
       "      <td>53.822586</td>\n",
       "      <td>3.001525</td>\n",
       "    </tr>\n",
       "    <tr>\n",
       "      <th>min</th>\n",
       "      <td>36.000000</td>\n",
       "      <td>1.000000</td>\n",
       "      <td>91000.000000</td>\n",
       "      <td>0.000000</td>\n",
       "      <td>6.220000</td>\n",
       "      <td>2.000000</td>\n",
       "    </tr>\n",
       "    <tr>\n",
       "      <th>25%</th>\n",
       "      <td>54.000000</td>\n",
       "      <td>3684.000000</td>\n",
       "      <td>95000.000000</td>\n",
       "      <td>186.000000</td>\n",
       "      <td>20.860000</td>\n",
       "      <td>2.000000</td>\n",
       "    </tr>\n",
       "    <tr>\n",
       "      <th>50%</th>\n",
       "      <td>61.000000</td>\n",
       "      <td>7434.000000</td>\n",
       "      <td>99000.000000</td>\n",
       "      <td>408.000000</td>\n",
       "      <td>25.480000</td>\n",
       "      <td>5.000000</td>\n",
       "    </tr>\n",
       "    <tr>\n",
       "      <th>75%</th>\n",
       "      <td>71.000000</td>\n",
       "      <td>10999.000000</td>\n",
       "      <td>109000.000000</td>\n",
       "      <td>528.000000</td>\n",
       "      <td>30.600000</td>\n",
       "      <td>5.000000</td>\n",
       "    </tr>\n",
       "    <tr>\n",
       "      <th>max</th>\n",
       "      <td>101.000000</td>\n",
       "      <td>14820.000000</td>\n",
       "      <td>120000.000000</td>\n",
       "      <td>714.000000</td>\n",
       "      <td>1062.280000</td>\n",
       "      <td>10.000000</td>\n",
       "    </tr>\n",
       "  </tbody>\n",
       "</table>\n",
       "</div>"
      ],
      "text/plain": [
       "                age       user_id         income          time        amount  \\\n",
       "count  36652.000000  36652.000000   36652.000000  36652.000000  13597.000000   \n",
       "mean      63.029766   7398.684137  101963.030667    365.183619     29.790083   \n",
       "std       12.144621   4313.978231    8419.411761    199.170398     53.822586   \n",
       "min       36.000000      1.000000   91000.000000      0.000000      6.220000   \n",
       "25%       54.000000   3684.000000   95000.000000    186.000000     20.860000   \n",
       "50%       61.000000   7434.000000   99000.000000    408.000000     25.480000   \n",
       "75%       71.000000  10999.000000  109000.000000    528.000000     30.600000   \n",
       "max      101.000000  14820.000000  120000.000000    714.000000   1062.280000   \n",
       "\n",
       "            reward  \n",
       "count  6005.000000  \n",
       "mean      5.220150  \n",
       "std       3.001525  \n",
       "min       2.000000  \n",
       "25%       2.000000  \n",
       "50%       5.000000  \n",
       "75%       5.000000  \n",
       "max      10.000000  "
      ]
     },
     "execution_count": 71,
     "metadata": {},
     "output_type": "execute_result"
    }
   ],
   "source": [
    "# calls the count function\n",
    "counts(high_income, 'event', 'transaction')\n",
    "counts(high_income, 'event', 'offer received')\n",
    "counts(high_income, 'event', 'offer viewed')\n",
    "counts(high_income, 'event', 'offer completed')\n",
    "\n",
    "high_income.describe() # displays descriptive statistics for data frame"
   ]
  },
  {
   "cell_type": "code",
   "execution_count": 72,
   "metadata": {},
   "outputs": [
    {
     "data": {
      "image/png": "[encoded data removed]",
      "text/plain": [
       "<matplotlib.figure.Figure at 0x7fc700f359b0>"
      ]
     },
     "metadata": {
      "needs_background": "light"
     },
     "output_type": "display_data"
    }
   ],
   "source": [
    "# plots bar chart\n",
    "create_chart(high_income['event'].value_counts(), 'Number of events by users', 'Events', 'Counts', 'bar')"
   ]
  },
  {
   "cell_type": "code",
   "execution_count": 73,
   "metadata": {},
   "outputs": [
    {
     "name": "stdout",
     "output_type": "stream",
     "text": [
      "The amount spent by females in this group is $238828.13\n",
      "The amount spent by males in this group is $162276.96\n",
      "The amount spent by other gender in this group is $3950.67\n",
      "----------------------------------------------------------\n",
      "Total amount spent in this group is $405055.76\n"
     ]
    }
   ],
   "source": [
    "amount_spent_by_gender(high_income)"
   ]
  },
  {
   "cell_type": "code",
   "execution_count": 74,
   "metadata": {},
   "outputs": [
    {
     "data": {
      "image/png": "[encoded data removed]",
      "text/plain": [
       "<matplotlib.figure.Figure at 0x7fc7010ae518>"
      ]
     },
     "metadata": {
      "needs_background": "light"
     },
     "output_type": "display_data"
    }
   ],
   "source": [
    "# plots a grouped bar chart\n",
    "create_countplot(high_income, \"gender\", \"event\", \"Gender\", \"Count\", \"Count of gender in relation to event\")"
   ]
  },
  {
   "cell_type": "code",
   "execution_count": 75,
   "metadata": {},
   "outputs": [
    {
     "data": {
      "image/png": "[encoded data removed]",
      "text/plain": [
       "<matplotlib.figure.Figure at 0x7fc700f134e0>"
      ]
     },
     "metadata": {
      "needs_background": "light"
     },
     "output_type": "display_data"
    }
   ],
   "source": [
    "# plots a grouped bar chart\n",
    "create_countplot(high_income, \"age_range\", \"gender\", \"Age range\", \"Count\", \"Count of age range in relation to Gender\")"
   ]
  },
  {
   "cell_type": "code",
   "execution_count": 76,
   "metadata": {},
   "outputs": [
    {
     "data": {
      "image/png": "[encoded data removed]",
      "text/plain": [
       "<matplotlib.figure.Figure at 0x7fc701083908>"
      ]
     },
     "metadata": {
      "needs_background": "light"
     },
     "output_type": "display_data"
    }
   ],
   "source": [
    "# plots a grouped bar chart\n",
    "create_countplot(high_income, \"age_range\", \"event\", \"Age range\", \"Count\", \"Count of age range in relation to event\")"
   ]
  },
  {
   "cell_type": "markdown",
   "metadata": {},
   "source": [
    "# Conclusion\n",
    "In conclusion, segementing customers can help in understand a particular target audience and creating personas along empathy maps to successful create a profile for the kind of customers Starbuck will like to attract. For this project the idea was geard towards looking at customers that have buying power and are willing to pay for cup of coffee or other products to ensure sustained sales. I went from understanding each component to comparing two to three components and found out that with increased age, there were more transactions. Also with increase age saw an increase in income. This can be due to advancement in career (i.e the more years spent in a field, the more you are paid). Between low income to middle income, males earned more and made more transactions but from middle to high icome and high income demographics, there were more females and they contributed higher to trasactions. These customers responded better to discount campaigns than BOGO campaigns.Segementing by income was the best way to look at other demographics putting sales in mind. The Starbucks brand has to stay alive in the minds of both the young and the elderly and there's no better way than to target their specific needs than to attempt sending various campaigns."
   ]
  },
  {
   "cell_type": "markdown",
   "metadata": {},
   "source": [
    "# Discussion and recommendations\n",
    "\n",
    "A business is looking for paying customers in order to run its operations but yet needs to attract more customers and convert them. The type of campaign to assign to each group will vary based on the business goal of the organization. If it's a campaign to drive loyalty, sales, gain new customers or reactivate and convert the already existing customer base which doesn't spend as much on products. For the purpose of this project it is assumed that this campaign is drive more sales with the existing campaign option, BOGO, Discount and Informational.\n",
    "\n",
    "\n",
    "**Low Income Demographics:**\n",
    "\n",
    "For this group **dicounts and BOGO** is a quick way to jump start sales as it creates urgency and added incentive for people to buy. At a 66% open rate and 46% complete rate it might be a risky bet to see how many will be converted. This can also serve as a campaign to get more young customers between 18 to 29 since they are prominent in this group and probably starting out their careers. With a good marketing strategy, this target audience can be converted since they’re great at sparking interest in new products. Discounts will be great because of the low number of customers in this group. If so much discount is given to a large proportion of the customers, it can reduce a company's marginal profit.\n",
    "\n",
    "Possible channels great for this are email, mobile, social.\n",
    "\n",
    "\n",
    "**Low to Middle Income Demographics:**\n",
    "\n",
    "This is the second largest group after middle income with 3,946 customers over the stated time period. There is a 66% open rate and 53% of offers completed. This shows that these customers are more invested in the Starbucks brand and are willing to buy. For this group, **BOGO** will should be given to females to increase the number of transactions from them and **informational campaign** to males, to keep the brand alive in their minds. This could be done by sharing males and targeting them with social media ads.\n",
    "\n",
    "**Middle Income Demographics:**\n",
    "\n",
    "This accounts for the most number of customer base. With 79% of open rate and 60% of completing offers, it is more likely that these customers will check offers. This group especially those customer between 50 to 59 are already invested in the brand and **BOGO** campaign tagergeted to females will increase number of products solds and attract more female customers in this group. For the male customers 70:40 share of **informational and discount campaign** should be targeted at them. This will be done to keep the brand in their mind and give discount to those who haven't done as much transaction as others. Web, email, mobile, social are channels that can be used to target this demographics.\n",
    "\n",
    "\n",
    "**Middle to High Income Demographics:**\n",
    "\n",
    "These are high paying customers with more females making transactions than males. This group has a 74% of completed offers. For a sales campaign, **BOGO** will be a great campaign to drive more sales. Starbucks will like to get more customers in this category and middle income so this should be effective in getting that goal. Email, mobile, social can be used to reach them\n",
    "\n",
    "\n",
    "**High Income Demographics:**\n",
    "\n",
    "This group probably consists of senior management and people who have been in their career for a long time. With high open rate and offer completion rate, this group of people might be looking for ways to get good deals in order to save money. To help solve that and get more customer loyalty a random slection of **informational and discount** offer can be sent to female customers and then **BOGO** sent to male customers to increase their transaction rate. The 50 to 59 age range is an important customer base and most of the levels of income per year and Starbucks will have to keep them happy while attracting more around this age range. Web, email, mobile, social are channels are great channels for this."
   ]
  },
  {
   "cell_type": "markdown",
   "metadata": {},
   "source": [
    "# Reflection\n",
    "\n",
    "I found this project particularly interesting as I have knowledge of digital marketing and found out how much data science can help to make my work a lot more easier by undertanding the customers better. For datasets with more information, one can segment further and find intriguing details on the customers being targeted.\n",
    "\n",
    "Exploratory data analysis on the surface doesn't look difficult but when one dives deep into exploring the data, it's a continuous process which takes time to understand and interpret. To improve this project, I could go further to create a model although I wanted this to help me exercise my exploratory data analytics skills. Going forward, I will practice more of this in addition with my digital marketing skills."
   ]
  },
  {
   "cell_type": "code",
   "execution_count": null,
   "metadata": {},
   "outputs": [],
   "source": []
  }
 ],
 "metadata": {
  "kernelspec": {
   "display_name": "Python 3",
   "language": "python",
   "name": "python3"
  },
  "language_info": {
   "codemirror_mode": {
    "name": "ipython",
    "version": 3
   },
   "file_extension": ".py",
   "mimetype": "text/x-python",
   "name": "python",
   "nbconvert_exporter": "python",
   "pygments_lexer": "ipython3",
   "version": "3.6.3"
  }
 },
 "nbformat": 4,
 "nbformat_minor": 2
}
